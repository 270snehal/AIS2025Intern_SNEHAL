{
 "cells": [
  {
   "cell_type": "markdown",
   "id": "cceff381-9fe4-446b-976e-e68dd02cb19c",
   "metadata": {},
   "source": [
    "# SET OPERATIONS"
   ]
  },
  {
   "cell_type": "markdown",
   "id": "b9eda219-8f2f-4d04-b764-50d3c1510b55",
   "metadata": {},
   "source": [
    "# SET OPERATIONS"
   ]
  },
  {
   "cell_type": "code",
   "execution_count": 1,
   "id": "52fa769d-1cbe-46a3-b750-ca9066d51687",
   "metadata": {},
   "outputs": [
    {
     "name": "stdout",
     "output_type": "stream",
     "text": [
      "SETS\n",
      "{1, 2, 3, 4, 5, 10}\n",
      "{1, 2, 3, 4, 5, 20, 10, 30}\n",
      "{1, 2, 3, 4, 5, 20, 10}\n",
      "{1, 2, 4, 5, 20, 10}\n",
      "{1, 2, 3, 4, 5, 40, 10, 20}\n",
      "{1, 3, 4, 40, 20}\n",
      "{2, 10, 5}\n"
     ]
    }
   ],
   "source": [
    "print( \"SETS\")\n",
    "se={1,2,3,4,5}\n",
    "se.add(10)\n",
    "print(se)\n",
    "se.update([20,30])\n",
    "print(se)\n",
    "se.remove(30)\n",
    "print(se)\n",
    "se.discard(3)\n",
    "print(se)\n",
    "se1={3,1,4,40 ,20}\n",
    "se2=se.union(se1)\n",
    "print(se2)\n",
    "se3=se2.intersection(se1)\n",
    "print(se3)\n",
    "se4=se2.difference(se1)\n",
    "print(se4)"
   ]
  },
  {
   "cell_type": "code",
   "execution_count": null,
   "id": "d3fa0b60-4c6c-499b-88dc-63c9dbdb4255",
   "metadata": {},
   "outputs": [],
   "source": []
  }
 ],
 "metadata": {
  "kernelspec": {
   "display_name": "Python 3 (ipykernel)",
   "language": "python",
   "name": "python3"
  },
  "language_info": {
   "codemirror_mode": {
    "name": "ipython",
    "version": 3
   },
   "file_extension": ".py",
   "mimetype": "text/x-python",
   "name": "python",
   "nbconvert_exporter": "python",
   "pygments_lexer": "ipython3",
   "version": "3.13.1"
  }
 },
 "nbformat": 4,
 "nbformat_minor": 5
}
