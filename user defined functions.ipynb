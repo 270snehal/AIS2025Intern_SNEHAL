{
 "cells": [
  {
   "cell_type": "markdown",
   "id": "b9126cf7-ddf1-4037-82d4-3cf18a5ce574",
   "metadata": {},
   "source": [
    "# User define function"
   ]
  },
  {
   "cell_type": "markdown",
   "id": "9336705c-a76f-40ec-80f5-966f6ccc5ada",
   "metadata": {},
   "source": [
    "* 1. Write a Python function to find the maximum of from given "
   ]
  },
  {
   "cell_type": "code",
   "execution_count": 1,
   "id": "15a64c43-0b5e-454d-955f-5c45813158bd",
   "metadata": {},
   "outputs": [
    {
     "name": "stdin",
     "output_type": "stream",
     "text": [
      "Enter a list of numbers separated by spaces:  1 2 3 4 5 6 7 8 9 10\n"
     ]
    },
    {
     "name": "stdout",
     "output_type": "stream",
     "text": [
      "The maximum number is: 10\n"
     ]
    }
   ],
   "source": [
    "\n",
    "def find_max():\n",
    "    # Get the list of numbers from the user\n",
    "    numbers = input(\"Enter a list of numbers separated by spaces: \")\n",
    "\n",
    "    # Convert the input string into a list of integers\n",
    "    numbers = [int(num) for num in numbers.split()]\n",
    "\n",
    "    # Find the maximum number in the list\n",
    "    max_num = max(numbers)\n",
    "\n",
    "    # Print the result\n",
    "    print(\"The maximum number is:\", max_num)\n",
    "\n",
    "# Call the function\n",
    "find_max()"
   ]
  },
  {
   "cell_type": "markdown",
   "id": "1d0512e0-9a56-4119-96e9-65502743b6c8",
   "metadata": {},
   "source": [
    "* 2)Write a Python function to sum all the numbers in a list.  Sample List : [8, 2, 3, 0, 7] Expected Output : 20 \n"
   ]
  },
  {
   "cell_type": "code",
   "execution_count": 2,
   "id": "de287218-5f72-4420-aec8-9a8d4e6b3204",
   "metadata": {},
   "outputs": [
    {
     "name": "stdout",
     "output_type": "stream",
     "text": [
      "20\n"
     ]
    }
   ],
   "source": [
    "def sum(numbers):\n",
    "    # Initialize a variable 'total' to store the sum of numbers, starting at 0\n",
    "    total = 0\n",
    "    \n",
    "    # Iterate through each element 'x' in the 'numbers' list\n",
    "    for x in numbers:\n",
    "        # Add the current element 'x' to the 'total'\n",
    "        total += x\n",
    "    \n",
    "    # Return the final sum stored in the 'total' variable\n",
    "    return total\n",
    "\n",
    "# Print the result of calling the 'sum' function with a tuple of numbers (8, 2, 3, 0, 7)\n",
    "print(sum((8, 2, 3, 0, 7)))"
   ]
  },
  {
   "cell_type": "markdown",
   "id": "3fe16114-01b3-4a3a-ae69-682d27a0ff3e",
   "metadata": {},
   "source": [
    "\n",
    "* 3)Write a Python function that takes a list and returns a new list with distinct elements from the first list.  Sample List : [1,2,3,3,3,3,4,5] Unique List : [1, 2, 3, 4, 5]"
   ]
  },
  {
   "cell_type": "code",
   "execution_count": 3,
   "id": "2248a7c2-4961-4675-bf0d-440020ba11c9",
   "metadata": {},
   "outputs": [
    {
     "name": "stdout",
     "output_type": "stream",
     "text": [
      "[1, 2, 3, 4, 5]\n"
     ]
    }
   ],
   "source": [
    "a= [1,2,3,3,3,3,4,5]\n",
    "#b=[]\n",
    "def new_list(a):\n",
    "    b=[]\n",
    "    b=list(set(a))\n",
    "    print(b)\n",
    "new_list(a)"
   ]
  },
  {
   "cell_type": "markdown",
   "id": "1c040149-7611-4c12-8521-26e818e274d1",
   "metadata": {},
   "source": [
    "* 4)Write a Python function total number of  Combinations. \n",
    "\n",
    "Ex. a,b,c\n",
    "Ans: 4 : ab,ac,bc,ac \n"
   ]
  },
  {
   "cell_type": "code",
   "execution_count": 4,
   "id": "d5baebf1-9c37-43e4-9280-e819146a176a",
   "metadata": {},
   "outputs": [
    {
     "name": "stdin",
     "output_type": "stream",
     "text": [
      "enter the numbers pqr\n"
     ]
    },
    {
     "name": "stdout",
     "output_type": "stream",
     "text": [
      "p q r\n",
      "p r q\n",
      "q p r\n",
      "q r p\n",
      "r p q\n",
      "r q p\n"
     ]
    }
   ],
   "source": [
    "def comb(L):       \n",
    "    for i in range(3): \n",
    "        for j in range(3): \n",
    "            for k in range(3):                \n",
    "                if (i!=j and j!=k and i!=k): \n",
    "                    print(L[i], L[j], L[k])\n",
    "comb(input(\"enter the numbers\"))"
   ]
  },
  {
   "cell_type": "markdown",
   "id": "e5f996f5-773e-4629-a078-3fb1068dd6b4",
   "metadata": {},
   "source": [
    "* 5)Write a Python function total number of  permutation \n",
    "Ex. a,b,c\n",
    "And: 6 : ab,ac,ba,bc,ca,cb "
   ]
  },
  {
   "cell_type": "code",
   "execution_count": 5,
   "id": "38bc7295-42ea-460c-a147-fc0f1bca5114",
   "metadata": {},
   "outputs": [
    {
     "name": "stdout",
     "output_type": "stream",
     "text": [
      "['abc', 'acb', 'bac', 'bca', 'cab', 'cba']\n"
     ]
    }
   ],
   "source": [
    "import itertools\n",
    "\n",
    "s = \"abc\"\n",
    "li = [''.join(p) for p in itertools.permutations(s)]\n",
    "print(li)"
   ]
  },
  {
   "cell_type": "markdown",
   "id": "92b12271-1c7c-4cc2-9471-4bdcfb2f46ec",
   "metadata": {},
   "source": [
    "* 6)Exercise 5: Define a function which counts vowels and consonant in a word.\n",
    "  input :  statistics \n",
    "Expected output : Count of vowel is = 3 Count of consonant is = 7"
   ]
  },
  {
   "cell_type": "code",
   "execution_count": 6,
   "id": "afb3128b-66c6-4d2a-8763-3082d19403ec",
   "metadata": {},
   "outputs": [
    {
     "name": "stdout",
     "output_type": "stream",
     "text": [
      "Count of vowels is = 3\n",
      "Count of consonants is = 7\n"
     ]
    }
   ],
   "source": [
    "def alphabets(word):\n",
    "    vowels=\"aeiouAEIOU\"\n",
    "    vowel_count=0\n",
    "    consonant_count=0\n",
    "    for char in word:\n",
    "        if char in vowels:\n",
    "            vowel_count+=1\n",
    "        else:\n",
    "            consonant_count+=1\n",
    "    print(f\"Count of vowels is = {vowel_count}\")\n",
    "    print(f\"Count of consonants is = {consonant_count}\")\n",
    "\n",
    "alphabets(\"statistics\")"
   ]
  },
  {
   "cell_type": "markdown",
   "id": "ff16999b-82e6-433e-ba32-1fc170eb0bfe",
   "metadata": {},
   "source": [
    "* 7): Define a function that accepts lowercase words and returns uppercase words.\n",
    " Input:= statistics \n",
    "Expected output  Result is = STATISTICS "
   ]
  },
  {
   "cell_type": "code",
   "execution_count": 8,
   "id": "7bd474a1-be4c-432b-9926-5b59cb887149",
   "metadata": {},
   "outputs": [
    {
     "name": "stdout",
     "output_type": "stream",
     "text": [
      "SNEHAL DIMBLE\n"
     ]
    }
   ],
   "source": [
    "text = \"snehal dimble\"\n",
    "uppercase_text = text.upper()\n",
    "print(uppercase_text)"
   ]
  },
  {
   "cell_type": "markdown",
   "id": "cfbc7b9a-2949-44a3-b6ac-b4455bb90a6e",
   "metadata": {},
   "source": [
    "* 8) count lower case and upper case  letter.\n",
    "Ex : STatiStiCS\n",
    "Ans: upper case :5\n",
    "Lower case: 5"
   ]
  },
  {
   "cell_type": "code",
   "execution_count": 9,
   "id": "c267cc23-2320-4fd3-bc50-6890abf5c1ae",
   "metadata": {},
   "outputs": [
    {
     "name": "stdout",
     "output_type": "stream",
     "text": [
      "Uppercase letters are 5\n",
      "Lowercase letters are 5\n"
     ]
    }
   ],
   "source": [
    "word = \"STatiStiCS\"\n",
    "\n",
    "def alphabets(word):\n",
    "    low = 0\n",
    "    up = 0\n",
    "    for i in word:\n",
    "        if i.islower():\n",
    "            low += 1\n",
    "        else:\n",
    "            up += 1\n",
    "    print(\"Uppercase letters are\", up)\n",
    "    print(\"Lowercase letters are\", low)\n",
    "\n",
    "alphabets(word)"
   ]
  },
  {
   "cell_type": "code",
   "execution_count": null,
   "id": "a6bec170-796a-4114-829c-ac519c8b25fb",
   "metadata": {},
   "outputs": [],
   "source": []
  }
 ],
 "metadata": {
  "kernelspec": {
   "display_name": "Python 3 (ipykernel)",
   "language": "python",
   "name": "python3"
  },
  "language_info": {
   "codemirror_mode": {
    "name": "ipython",
    "version": 3
   },
   "file_extension": ".py",
   "mimetype": "text/x-python",
   "name": "python",
   "nbconvert_exporter": "python",
   "pygments_lexer": "ipython3",
   "version": "3.13.1"
  }
 },
 "nbformat": 4,
 "nbformat_minor": 5
}
