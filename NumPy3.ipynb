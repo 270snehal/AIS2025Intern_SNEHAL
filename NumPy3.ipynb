{
 "cells": [
  {
   "cell_type": "markdown",
   "id": "8cdd230e-fee6-4379-964b-650f201e0901",
   "metadata": {},
   "source": [
    "# 5. Array Manipulation"
   ]
  },
  {
   "cell_type": "markdown",
   "id": "1bc3aaec-909a-4fea-a8f2-91c04a8c524e",
   "metadata": {},
   "source": [
    "* Indexing and slicing: understanding multi-dimensional arrays.\n",
    "Masking (logical indexing based on conditions).\n",
    "Fancy indexing (using arrays of indices to select elements)."
   ]
  },
  {
   "cell_type": "code",
   "execution_count": 1,
   "id": "c54f2e99-d742-41f6-a6c8-8c92b5e23778",
   "metadata": {},
   "outputs": [
    {
     "name": "stdout",
     "output_type": "stream",
     "text": [
      "1\n",
      "5\n",
      "[2 3]\n",
      "[2 3 4 5]\n",
      "[1 2 3]\n"
     ]
    }
   ],
   "source": [
    "import numpy as np\n",
    "arr = np.array([1, 2, 3, 4, 5])\n",
    "print(arr[0]) \n",
    "print(arr[-1]) \n",
    "print(arr[1:3]) \n",
    "print(arr[1:]) \n",
    "print(arr[:3])"
   ]
  },
  {
   "cell_type": "code",
   "execution_count": 2,
   "id": "1867510a-b337-4cba-9137-a2b19df24acd",
   "metadata": {},
   "outputs": [
    {
     "name": "stdout",
     "output_type": "stream",
     "text": [
      "1\n",
      "6\n",
      "[2 3]\n",
      "[4 5]\n"
     ]
    }
   ],
   "source": [
    "import numpy as np\n",
    "arr = np.array([[1, 2, 3], [4, 5, 6]])\n",
    "print(arr[0, 0]) \n",
    "print(arr[1, 2]) \n",
    "print(arr[0, 1:]) \n",
    "print(arr[1, :2])"
   ]
  },
  {
   "cell_type": "code",
   "execution_count": 3,
   "id": "dae98ac2-52cf-4457-8daa-d478be7d036b",
   "metadata": {},
   "outputs": [
    {
     "name": "stdout",
     "output_type": "stream",
     "text": [
      "[4 5]\n"
     ]
    }
   ],
   "source": [
    "import numpy as np\n",
    "arr = np.array([1, 2, 3, 4, 5])\n",
    "mask = arr > 3\n",
    "print(arr[mask])"
   ]
  },
  {
   "cell_type": "code",
   "execution_count": 4,
   "id": "fd7e3d12-299b-486c-bef0-eaae2d27b8d2",
   "metadata": {},
   "outputs": [
    {
     "name": "stdout",
     "output_type": "stream",
     "text": [
      "[1 3 5]\n"
     ]
    }
   ],
   "source": [
    "import numpy as np\n",
    "arr = np.array([1, 2, 3, 4, 5])\n",
    "\n",
    "indices = np.array([0, 2, 4])\n",
    "print(arr[indices])"
   ]
  },
  {
   "cell_type": "code",
   "execution_count": 6,
   "id": "2505387f-6047-45c8-b760-c669e1650d08",
   "metadata": {},
   "outputs": [
    {
     "name": "stdout",
     "output_type": "stream",
     "text": [
      "[1 6]\n"
     ]
    }
   ],
   "source": [
    "import numpy as np\n",
    "arr = np.array([[1, 2, 3], [4, 5, 6]])\n",
    "\n",
    "row_indices = np.array([0, 1])\n",
    "col_indices = np.array([0, 2])\n",
    "print(arr[row_indices, col_indices])"
   ]
  },
  {
   "cell_type": "markdown",
   "id": "b4c07f53-6f73-4530-8c11-37daf5f5b189",
   "metadata": {},
   "source": [
    "# 6. Mathematical Functions"
   ]
  },
  {
   "cell_type": "markdown",
   "id": "b8468180-920b-4acb-a627-2bc3bebce21d",
   "metadata": {},
   "source": [
    "* Universal functions (ufuncs) like np.add(), np.subtract(), np.multiply().\n",
    "Statistical functions: np.mean(), np.median(), np.std(), np.var(), np.min(), np.max().\n",
    "Linear algebra functions: np.dot(), np.matmul(), np.linalg.inv(), np.linalg.eig()."
   ]
  },
  {
   "cell_type": "code",
   "execution_count": 7,
   "id": "2c2f805f-5961-4eb7-a25a-1144b311265b",
   "metadata": {},
   "outputs": [
    {
     "name": "stdout",
     "output_type": "stream",
     "text": [
      "[5 7 9]\n"
     ]
    }
   ],
   "source": [
    "import numpy as np\n",
    "\n",
    "arr1 = np.array([1, 2, 3])\n",
    "arr2 = np.array([4, 5, 6])\n",
    "result = np.add(arr1, arr2)\n",
    "\n",
    "print(result) "
   ]
  },
  {
   "cell_type": "code",
   "execution_count": 8,
   "id": "bf022343-5e53-4056-b098-9776e741a664",
   "metadata": {},
   "outputs": [
    {
     "name": "stdout",
     "output_type": "stream",
     "text": [
      "[-3 -3 -3]\n"
     ]
    }
   ],
   "source": [
    "\n",
    "import numpy as np\n",
    "arr1 = np.array([1, 2, 3])\n",
    "arr2 = np.array([4, 5, 6])\n",
    "result = np.subtract(arr1, arr2)\n",
    "\n",
    "print(result)"
   ]
  },
  {
   "cell_type": "code",
   "execution_count": 9,
   "id": "b5137b12-7ff8-4a0f-8c09-03aa898abb12",
   "metadata": {},
   "outputs": [
    {
     "name": "stdout",
     "output_type": "stream",
     "text": [
      "[ 4 10 18]\n"
     ]
    }
   ],
   "source": [
    "\n",
    "import numpy as np\n",
    "arr1 = np.array([1, 2, 3])\n",
    "arr2 = np.array([4, 5, 6])\n",
    "\n",
    "result = np.multiply(arr1, arr2)\n",
    "\n",
    "print(result)"
   ]
  },
  {
   "cell_type": "code",
   "execution_count": 10,
   "id": "05e8fa0c-6a84-48b2-b565-83074245d4bd",
   "metadata": {},
   "outputs": [
    {
     "name": "stdout",
     "output_type": "stream",
     "text": [
      "3.0\n"
     ]
    }
   ],
   "source": [
    "import numpy as np\n",
    "\n",
    "arr = np.array([1, 2, 3, 4, 5])\n",
    "mean = np.mean(arr)\n",
    "print(mean)  "
   ]
  },
  {
   "cell_type": "code",
   "execution_count": 11,
   "id": "0c33a9a7-cb9d-42ea-8c72-d516fec90017",
   "metadata": {},
   "outputs": [
    {
     "name": "stdout",
     "output_type": "stream",
     "text": [
      "3.0\n"
     ]
    }
   ],
   "source": [
    "import numpy as np\n",
    "\n",
    "arr = np.array([1, 2, 3, 4, 5])\n",
    "median = np.median(arr)\n",
    "print(median) "
   ]
  },
  {
   "cell_type": "code",
   "execution_count": 12,
   "id": "05f58b15-098a-4e60-b410-e4557da6b45e",
   "metadata": {},
   "outputs": [
    {
     "name": "stdout",
     "output_type": "stream",
     "text": [
      "1.4142135623730951\n"
     ]
    }
   ],
   "source": [
    "import numpy as np\n",
    "\n",
    "arr = np.array([1, 2, 3, 4, 5])\n",
    "std_dev = np.std(arr)\n",
    "print(std_dev) "
   ]
  },
  {
   "cell_type": "code",
   "execution_count": 13,
   "id": "c5b25e1d-2990-4cc4-9c9c-f982550cdbfc",
   "metadata": {},
   "outputs": [
    {
     "name": "stdout",
     "output_type": "stream",
     "text": [
      "2.0\n"
     ]
    }
   ],
   "source": [
    "import numpy as np\n",
    "\n",
    "arr = np.array([1, 2, 3, 4, 5])\n",
    "variance = np.var(arr)\n",
    "print(variance) "
   ]
  },
  {
   "cell_type": "code",
   "execution_count": 17,
   "id": "d78f68a7-ac5b-4060-b427-ed3d4a055f7f",
   "metadata": {},
   "outputs": [
    {
     "name": "stdout",
     "output_type": "stream",
     "text": [
      "1\n"
     ]
    }
   ],
   "source": [
    "import numpy as np\n",
    "\n",
    "arr = np.array([1, 2, 3, 4, 5])\n",
    "min_val = np.min(arr)\n",
    "print(min_val)  "
   ]
  },
  {
   "cell_type": "code",
   "execution_count": 15,
   "id": "a555d62d-2dce-4696-9674-15ba3bfe4e7e",
   "metadata": {},
   "outputs": [
    {
     "name": "stdout",
     "output_type": "stream",
     "text": [
      "5\n"
     ]
    }
   ],
   "source": [
    "import numpy as np\n",
    "\n",
    "arr = np.array([1, 2, 3, 4, 5])\n",
    "max_val = np.max(arr)\n",
    "print(max_val) "
   ]
  },
  {
   "cell_type": "code",
   "execution_count": 18,
   "id": "6d6d3e13-8b87-46c7-a924-5adf6c0e52ec",
   "metadata": {},
   "outputs": [
    {
     "name": "stdout",
     "output_type": "stream",
     "text": [
      "32\n"
     ]
    }
   ],
   "source": [
    "import numpy as np\n",
    "\n",
    "arr1 = np.array([1, 2, 3])\n",
    "arr2 = np.array([4, 5, 6])\n",
    "\n",
    "dot_product = np.dot(arr1, arr2)\n",
    "print(dot_product)  "
   ]
  },
  {
   "cell_type": "code",
   "execution_count": 19,
   "id": "40215d75-5f77-4f6e-a431-6a14101cc73f",
   "metadata": {},
   "outputs": [
    {
     "name": "stdout",
     "output_type": "stream",
     "text": [
      "[[19 22]\n",
      " [43 50]]\n"
     ]
    }
   ],
   "source": [
    "import numpy as np\n",
    "\n",
    "arr1 = np.array([[1, 2], [3, 4]])\n",
    "arr2 = np.array([[5, 6], [7, 8]])\n",
    "\n",
    "matrix_product = np.matmul(arr1, arr2)\n",
    "print(matrix_product)"
   ]
  },
  {
   "cell_type": "code",
   "execution_count": 20,
   "id": "70f67376-a65f-4605-a396-9b41cc11b6af",
   "metadata": {},
   "outputs": [
    {
     "name": "stdout",
     "output_type": "stream",
     "text": [
      "[[-2.   1. ]\n",
      " [ 1.5 -0.5]]\n"
     ]
    }
   ],
   "source": [
    "import numpy as np\n",
    "\n",
    "arr = np.array([[1, 2], [3, 4]])\n",
    "\n",
    "inverse = np.linalg.inv(arr)\n",
    "print(inverse)"
   ]
  },
  {
   "cell_type": "code",
   "execution_count": 16,
   "id": "3e0dd505-6eec-4085-91f6-ff817711a39b",
   "metadata": {},
   "outputs": [
    {
     "name": "stdout",
     "output_type": "stream",
     "text": [
      "Eigenvalues:\n",
      "[-0.37228132  5.37228132]\n",
      "Eigenvectors:\n",
      "[[-0.82456484 -0.41597356]\n",
      " [ 0.56576746 -0.90937671]]\n"
     ]
    }
   ],
   "source": [
    "import numpy as np\n",
    "\n",
    "arr = np.array([[1, 2], [3, 4]])\n",
    "\n",
    "eigenvalues, eigenvectors = np.linalg.eig(arr)\n",
    "print(\"Eigenvalues:\")\n",
    "print(eigenvalues)\n",
    "print(\"Eigenvectors:\")\n",
    "print(eigenvectors)"
   ]
  },
  {
   "cell_type": "code",
   "execution_count": null,
   "id": "b07bf98c-33cf-412f-a47e-4374da0050b3",
   "metadata": {},
   "outputs": [],
   "source": []
  }
 ],
 "metadata": {
  "kernelspec": {
   "display_name": "Python 3 (ipykernel)",
   "language": "python",
   "name": "python3"
  },
  "language_info": {
   "codemirror_mode": {
    "name": "ipython",
    "version": 3
   },
   "file_extension": ".py",
   "mimetype": "text/x-python",
   "name": "python",
   "nbconvert_exporter": "python",
   "pygments_lexer": "ipython3",
   "version": "3.13.1"
  }
 },
 "nbformat": 4,
 "nbformat_minor": 5
}
