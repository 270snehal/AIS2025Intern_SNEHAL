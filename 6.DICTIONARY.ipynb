{
 "cells": [
  {
   "cell_type": "markdown",
   "id": "454cabc8-0b20-4e32-adee-6b366c4aed7e",
   "metadata": {},
   "source": [
    "# DICTIONARY"
   ]
  },
  {
   "cell_type": "code",
   "execution_count": 1,
   "id": "ffd5809f-17fa-40cc-9d69-a94b68a5e047",
   "metadata": {},
   "outputs": [
    {
     "name": "stdout",
     "output_type": "stream",
     "text": [
      "ditionary\n",
      "de[name]\n"
     ]
    }
   ],
   "source": [
    "print(\"ditionary\")\n",
    "de={\"name\":\"SNEHALL\",\"age\":21,\"class\":\"TEAIML\"}\n",
    "print(\"de[name]\")"
   ]
  },
  {
   "cell_type": "code",
   "execution_count": 3,
   "id": "f099eaf4-35f7-4ddb-a4d7-1d7cfe8efa63",
   "metadata": {},
   "outputs": [
    {
     "name": "stdout",
     "output_type": "stream",
     "text": [
      "dict_keys(['name', 'age', 'city'])\n",
      "dict_values(['snehal', 20, 'Pune'])\n",
      "dict_items([('name', 'snehal'), ('age', 20), ('city', 'Pune')])\n",
      "20\n",
      "{'name': 'snehal', 'city': 'Pune', 'college': 'navsahydri'}\n"
     ]
    }
   ],
   "source": [
    "my_dict = {'name': 'snehal','age': 20,'city': 'Pune'}\n",
    "x=my_dict.keys()\n",
    "print(x)\n",
    "y=my_dict.values()\n",
    "print(y)\n",
    "\n",
    "z=my_dict.items()\n",
    "print(z)\n",
    "q=my_dict.pop('age')\n",
    "print(q)\n",
    "\n",
    "my_dict.update({'college':'navsahydri'})\n",
    "print(my_dict)"
   ]
  },
  {
   "cell_type": "code",
   "execution_count": null,
   "id": "6b23806d-69d3-4d2a-a736-f8c8d3e31e71",
   "metadata": {},
   "outputs": [],
   "source": []
  }
 ],
 "metadata": {
  "kernelspec": {
   "display_name": "Python 3 (ipykernel)",
   "language": "python",
   "name": "python3"
  },
  "language_info": {
   "codemirror_mode": {
    "name": "ipython",
    "version": 3
   },
   "file_extension": ".py",
   "mimetype": "text/x-python",
   "name": "python",
   "nbconvert_exporter": "python",
   "pygments_lexer": "ipython3",
   "version": "3.13.1"
  }
 },
 "nbformat": 4,
 "nbformat_minor": 5
}
