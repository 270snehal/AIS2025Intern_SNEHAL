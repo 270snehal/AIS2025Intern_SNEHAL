{
 "cells": [
  {
   "cell_type": "markdown",
   "id": "7d06415a-68a5-45bd-8a6e-651120af188c",
   "metadata": {},
   "source": [
    "# while loop"
   ]
  },
  {
   "cell_type": "markdown",
   "id": "26d42d17-9be7-4790-b456-6ef4e94661f1",
   "metadata": {},
   "source": [
    "* 1)odd-even using while loop"
   ]
  },
  {
   "cell_type": "code",
   "execution_count": 1,
   "id": "d61ce312-e4b2-43a5-a19b-07e6b96c280b",
   "metadata": {},
   "outputs": [
    {
     "name": "stdout",
     "output_type": "stream",
     "text": [
      "1 is odd\n",
      "2 is even\n",
      "3 is odd\n",
      "4 is even\n",
      "5 is odd\n",
      "6 is even\n",
      "7 is odd\n",
      "8 is even\n",
      "9 is odd\n",
      "10 is even\n",
      "11 is odd\n",
      "12 is even\n",
      "13 is odd\n",
      "14 is even\n",
      "15 is odd\n",
      "16 is even\n",
      "17 is odd\n",
      "18 is even\n",
      "19 is odd\n",
      "20 is even\n"
     ]
    }
   ],
   "source": [
    "number = 1\n",
    "while number <= 20:\n",
    "    if number % 2 == 0:\n",
    "        print(f\"{number} is even\")\n",
    "    else:\n",
    "        print(f\"{number} is odd\")\n",
    "    number += 1"
   ]
  },
  {
   "cell_type": "markdown",
   "id": "26f305ce-3748-42e2-abd0-d6cc7ba4aac8",
   "metadata": {},
   "source": [
    "* 3) create list 1-20 numbers list using while loop=>[1,2,3...20]"
   ]
  },
  {
   "cell_type": "code",
   "execution_count": 2,
   "id": "00c3ce58-8d1d-4c14-87d9-55c1fd1837a5",
   "metadata": {},
   "outputs": [
    {
     "name": "stdout",
     "output_type": "stream",
     "text": [
      "[1, 2, 3, 4, 5, 6, 7, 8, 9, 10, 11, 12, 13, 14, 15, 16, 17, 18, 19, 20]\n"
     ]
    }
   ],
   "source": [
    "numbers = []\n",
    "i = 1\n",
    "while i <= 20:\n",
    "    numbers.append(i)\n",
    "    i += 1\n",
    "print(numbers)"
   ]
  },
  {
   "cell_type": "markdown",
   "id": "024477a1-a573-4ba9-909e-e62cabf63c53",
   "metadata": {},
   "source": [
    "* 4)  creat list 20-1 (revers order) using while loop=> [20,19...1]"
   ]
  },
  {
   "cell_type": "code",
   "execution_count": 2,
   "id": "7d956dec-284a-47b2-a7a9-8029159d5808",
   "metadata": {},
   "outputs": [
    {
     "name": "stdout",
     "output_type": "stream",
     "text": [
      "20\n",
      "19\n",
      "18\n",
      "17\n",
      "16\n",
      "15\n",
      "14\n",
      "13\n",
      "12\n",
      "11\n",
      "10\n",
      "9\n",
      "8\n",
      "7\n",
      "6\n",
      "5\n",
      "4\n",
      "3\n",
      "2\n",
      "1\n"
     ]
    }
   ],
   "source": [
    "number = 20 \n",
    " \n",
    "while number >= 1: \n",
    "    print(number) \n",
    "    number -= 1"
   ]
  },
  {
   "cell_type": "markdown",
   "id": "3822ca3b-de0a-4eb9-b085-799e98c87876",
   "metadata": {},
   "source": [
    "* 5.try with one any eg. break, continue , pass control statement"
   ]
  },
  {
   "cell_type": "code",
   "execution_count": 5,
   "id": "25b0ac91-36af-48ae-a65c-79e674c7bfdd",
   "metadata": {},
   "outputs": [
    {
     "name": "stdout",
     "output_type": "stream",
     "text": [
      "1.break\n",
      "0\n",
      "1\n",
      "2\n",
      "2.continue\n",
      "0\n",
      "1\n",
      "2\n",
      "4\n",
      "3.pass\n",
      "0\n",
      "1\n",
      "2\n",
      "3\n",
      "4\n"
     ]
    }
   ],
   "source": [
    "print(\"1.break\")\n",
    "i = 0\n",
    "while i < 5:\n",
    "    if i == 3:\n",
    "        break \n",
    "    print(i)\n",
    "    i += 1\n",
    "    \n",
    "    \n",
    "print(\"2.continue\")\n",
    "for i in range(5):\n",
    "    if i == 3:\n",
    "        continue \n",
    "        \n",
    "    print(i)\n",
    "\n",
    "    \n",
    "    \n",
    "print(\"3.pass\")\n",
    "for i in range(5):\n",
    "    if i == 3:\n",
    "        pass \n",
    "        \n",
    "    print(i)\n"
   ]
  },
  {
   "cell_type": "markdown",
   "id": "8baa0134-a028-4659-ac65-bbec48f174b3",
   "metadata": {},
   "source": [
    "* pyramid"
   ]
  },
  {
   "cell_type": "code",
   "execution_count": 6,
   "id": "e9c4ad9a-5fde-4cfa-9bf1-c7bdc7a6b816",
   "metadata": {},
   "outputs": [
    {
     "name": "stdout",
     "output_type": "stream",
     "text": [
      "       *\n",
      "      **\n",
      "     ***\n",
      "    ****\n",
      "   *****\n",
      "  ******\n"
     ]
    }
   ],
   "source": [
    "n = 6\n",
    "i = 0\n",
    "\n",
    "while i < n:\n",
    "    print(' ' * (n - i + 1) + '*' * (i + 1))\n",
    "    i += 1"
   ]
  },
  {
   "cell_type": "code",
   "execution_count": null,
   "id": "6910ef34-1be0-4432-99d4-0b5d26f64db7",
   "metadata": {},
   "outputs": [],
   "source": []
  }
 ],
 "metadata": {
  "kernelspec": {
   "display_name": "Python 3 (ipykernel)",
   "language": "python",
   "name": "python3"
  },
  "language_info": {
   "codemirror_mode": {
    "name": "ipython",
    "version": 3
   },
   "file_extension": ".py",
   "mimetype": "text/x-python",
   "name": "python",
   "nbconvert_exporter": "python",
   "pygments_lexer": "ipython3",
   "version": "3.13.1"
  }
 },
 "nbformat": 4,
 "nbformat_minor": 5
}
