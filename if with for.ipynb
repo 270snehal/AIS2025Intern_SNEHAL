{
 "cells": [
  {
   "cell_type": "markdown",
   "id": "74421c33-4f40-47f7-8798-799aca2fab6c",
   "metadata": {},
   "source": [
    "# Solve Using if and for loop  and data types methods "
   ]
  },
  {
   "cell_type": "markdown",
   "id": "b6f9b106-4d0c-46f5-9721-c2b048de86df",
   "metadata": {},
   "source": [
    "* Given a list, write a Python code  to swap first and last element of the list."
   ]
  },
  {
   "cell_type": "code",
   "execution_count": 1,
   "id": "eb1c24d5-8452-43c2-a7cf-8d2940e689f0",
   "metadata": {},
   "outputs": [
    {
     "name": "stdout",
     "output_type": "stream",
     "text": [
      "[1, 2, 3, 4, 5]\n"
     ]
    },
    {
     "data": {
      "text/plain": [
       "[5, 2, 3, 4, 1]"
      ]
     },
     "execution_count": 1,
     "metadata": {},
     "output_type": "execute_result"
    }
   ],
   "source": [
    "li=[1,2,3,4,5]\n",
    "print(li[0:5])\n",
    "temp = 5\n",
    "li[0]=temp\n",
    "temp2= 1\n",
    "li[4]=temp2\n",
    "li[0:5]"
   ]
  },
  {
   "cell_type": "markdown",
   "id": "8fd68b06-ff53-446f-b4b1-cd7534ce023f",
   "metadata": {},
   "source": [
    "* write code count lenght of string"
   ]
  },
  {
   "cell_type": "code",
   "execution_count": 4,
   "id": "7e9a331b-2380-4615-b8a2-90cdc326ebff",
   "metadata": {},
   "outputs": [
    {
     "name": "stdout",
     "output_type": "stream",
     "text": [
      "6\n"
     ]
    }
   ],
   "source": [
    "a = \"snehal\"\n",
    "count = 0\n",
    "\n",
    "for char in a:\n",
    " \n",
    "    count += 1\n",
    "print(count)"
   ]
  },
  {
   "cell_type": "markdown",
   "id": "b8405ff4-3992-4b14-82b3-e696c052d16c",
   "metadata": {},
   "source": [
    "* write code of factorial , ex.ans 6 (321)"
   ]
  },
  {
   "cell_type": "code",
   "execution_count": 3,
   "id": "9346834c-b3db-4642-92cd-df04d0024f50",
   "metadata": {},
   "outputs": [
    {
     "name": "stdout",
     "output_type": "stream",
     "text": [
      "The factorial of 17 is 355687428096000\n"
     ]
    }
   ],
   "source": [
    "num = 17\n",
    "factorial = 1\n",
    "\n",
    "for i in range(1, num + 1):\n",
    "    factorial *= i\n",
    "\n",
    "print(f\"The factorial of {num} is {factorial}\")"
   ]
  },
  {
   "cell_type": "markdown",
   "id": "7213ce07-0ddd-40df-8897-9efa4935399d",
   "metadata": {},
   "source": [
    "* Write a Python program to get the sum of a only non-negative integer. ex, [1,4,-5,-20,10] ans is 15"
   ]
  },
  {
   "cell_type": "code",
   "execution_count": 5,
   "id": "f8db7637-2ba8-4750-b591-4d895c82f83d",
   "metadata": {},
   "outputs": [
    {
     "name": "stdout",
     "output_type": "stream",
     "text": [
      "15\n"
     ]
    }
   ],
   "source": [
    "li= [1,4,-5,-20,10]\n",
    "sum=0\n",
    "for i in li:\n",
    "    if i>=0:\n",
    "        sum +=i\n",
    "print(sum)"
   ]
  },
  {
   "cell_type": "code",
   "execution_count": null,
   "id": "77d1e002-a6a0-4386-a2a6-7686dfa6447b",
   "metadata": {},
   "outputs": [],
   "source": []
  }
 ],
 "metadata": {
  "kernelspec": {
   "display_name": "Python 3 (ipykernel)",
   "language": "python",
   "name": "python3"
  },
  "language_info": {
   "codemirror_mode": {
    "name": "ipython",
    "version": 3
   },
   "file_extension": ".py",
   "mimetype": "text/x-python",
   "name": "python",
   "nbconvert_exporter": "python",
   "pygments_lexer": "ipython3",
   "version": "3.13.1"
  }
 },
 "nbformat": 4,
 "nbformat_minor": 5
}
