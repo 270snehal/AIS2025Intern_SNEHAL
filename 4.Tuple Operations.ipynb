{
 "cells": [
  {
   "cell_type": "markdown",
   "id": "f47ee953-15f6-4b6e-a99e-a4c3fba6322f",
   "metadata": {},
   "source": [
    "# Tuple Operations"
   ]
  },
  {
   "cell_type": "code",
   "execution_count": 2,
   "id": "5b112019-6d4e-4a80-9c4d-a4b1f06e0ef0",
   "metadata": {},
   "outputs": [
    {
     "name": "stdout",
     "output_type": "stream",
     "text": [
      "operations of tuple\n",
      "(1, 2, 3, 4, 5)\n"
     ]
    }
   ],
   "source": [
    "print(\"operations of tuple\")\n",
    "abc=(1,2,3,4,5)\n",
    "print(abc)\n",
    "\n"
   ]
  },
  {
   "cell_type": "code",
   "execution_count": 3,
   "id": "4b9ebe7a-be37-4234-a0ca-470c0c229e2f",
   "metadata": {},
   "outputs": [
    {
     "name": "stdout",
     "output_type": "stream",
     "text": [
      "TUPLE\n",
      "2\n",
      "(1, 2, 3)\n",
      "(1, 2, 3, 4, 5, 10, 20, 30)\n",
      "(1, 2, 3, 4, 5, 10, 20, 30, 1, 2, 3, 4, 5, 10, 20, 30)\n",
      "2\n",
      "5\n"
     ]
    }
   ],
   "source": [
    "print(\"TUPLE\")\n",
    "t=(1,2,3,4,5)\n",
    "print(t[1])#using index\n",
    "a=t[0:3]#slicing \n",
    "print(a)\n",
    "b=(10,20,30)#new tub\n",
    "c=t+b # concatention\n",
    "print(c)\n",
    "c=c*2 # repetition\n",
    "print(c)\n",
    "d=c.count(2)\n",
    "print(d)\n",
    "e=c.index(10)\n",
    "print(e)"
   ]
  },
  {
   "cell_type": "code",
   "execution_count": null,
   "id": "84856dd5-c71b-427b-bbb9-122f098fbe64",
   "metadata": {},
   "outputs": [],
   "source": []
  }
 ],
 "metadata": {
  "kernelspec": {
   "display_name": "Python 3 (ipykernel)",
   "language": "python",
   "name": "python3"
  },
  "language_info": {
   "codemirror_mode": {
    "name": "ipython",
    "version": 3
   },
   "file_extension": ".py",
   "mimetype": "text/x-python",
   "name": "python",
   "nbconvert_exporter": "python",
   "pygments_lexer": "ipython3",
   "version": "3.13.1"
  }
 },
 "nbformat": 4,
 "nbformat_minor": 5
}
