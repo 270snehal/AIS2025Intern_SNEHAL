{
 "cells": [
  {
   "cell_type": "markdown",
   "id": "54ef52b9-5cc4-4bc8-80db-b1d31374a0ae",
   "metadata": {},
   "source": [
    "# List Operations"
   ]
  },
  {
   "cell_type": "code",
   "execution_count": 19,
   "id": "b67ed3e5-1dcb-40ea-aea6-d7a27c197e04",
   "metadata": {
    "scrolled": true
   },
   "outputs": [
    {
     "name": "stdout",
     "output_type": "stream",
     "text": [
      "operation of list\n",
      "['cat', 'dog', 'eresh', 'monkey', 'donkey', 'rohit']\n",
      "['cat', 'sayee', 'dog', 'eresh', 'monkey', 'donkey', 'rohit']\n",
      "['cat', 'sayee', 'dog', 'eresh', 'monkey', 'donkey']\n",
      "['cat', 'dog', 'eresh', 'monkey', 'donkey']\n",
      "['cat', 'dog', 'eresh', 'monkey', 'donkey', 'omkar', 'monty', 'sahil']\n",
      "['sahil', 'monty', 'omkar', 'donkey', 'monkey', 'eresh', 'dog', 'cat']\n",
      "1\n",
      "['sahil', 'monty', 'omkar', 'donkey', 'monkey', 'eresh', 'dog', 'cat']\n",
      "['cat', 'dog', 'donkey', 'eresh', 'monkey', 'monty', 'omkar', 'sahil']\n"
     ]
    }
   ],
   "source": [
    "print(\"operation of list\")\n",
    "animals=[\"cat\",\"dog\",\"eresh\",\"monkey\",\"donkey\"]\n",
    "animals2=[\"omkar\",\"monty\",\"sahil\"]\n",
    "animals.append(\"rohit\")\n",
    "print(animals)\n",
    "\n",
    "animals.insert(1,\"sayee\")\n",
    "print(animals)\n",
    "\n",
    "animals.remove(\"rohit\")\n",
    "print(animals)\n",
    "\n",
    "animals.pop(1)\n",
    "print(animals)\n",
    "\n",
    "animals.extend(animals2)\n",
    "print(animals)\n",
    "\n",
    "animals.reverse()\n",
    "print(animals)\n",
    "\n",
    "a=animals.count(\"eresh\")\n",
    "print(a)\n",
    "\n",
    "a=animals.copy()\n",
    "print(a)\n",
    "\n",
    "animals.sort()\n",
    "print(animals)"
   ]
  },
  {
   "cell_type": "code",
   "execution_count": null,
   "id": "fa01dfa7-e296-45ae-86dd-e6e388a6177e",
   "metadata": {},
   "outputs": [],
   "source": []
  }
 ],
 "metadata": {
  "kernelspec": {
   "display_name": "Python 3 (ipykernel)",
   "language": "python",
   "name": "python3"
  },
  "language_info": {
   "codemirror_mode": {
    "name": "ipython",
    "version": 3
   },
   "file_extension": ".py",
   "mimetype": "text/x-python",
   "name": "python",
   "nbconvert_exporter": "python",
   "pygments_lexer": "ipython3",
   "version": "3.13.1"
  }
 },
 "nbformat": 4,
 "nbformat_minor": 5
}
