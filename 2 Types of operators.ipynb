{
 "cells": [
  {
   "cell_type": "markdown",
   "id": "fd0d6ef4-2f6b-45a7-bd4f-2e811b9602bd",
   "metadata": {},
   "source": [
    "# TYPES OF OPERATORS"
   ]
  },
  {
   "cell_type": "markdown",
   "id": "9a984753-e7fc-4aa6-94ba-96fd978a8e3d",
   "metadata": {},
   "source": [
    "# TYPES OF OPERATORS"
   ]
  },
  {
   "cell_type": "code",
   "execution_count": null,
   "id": "6b2ddde9-5980-4ebb-92f5-c101d9f68b7e",
   "metadata": {},
   "outputs": [],
   "source": [
    "1. Arithmetic Operators\n",
    "*  Addition(+)\n",
    "*  subtraction(-)\n",
    "*  Multiplication (*)\n",
    "*  Division (/)\n",
    "*  Modulus (%)\n",
    "*  Exponentiation (**)"
   ]
  },
  {
   "cell_type": "code",
   "execution_count": null,
   "id": "fa6e39c0-3b18-4165-b09d-80d24d720f3b",
   "metadata": {},
   "outputs": [],
   "source": [
    "2. Comparision Operators\n",
    "*  Greater than (>)\n",
    "*  Less than(<)\n",
    "*  Equal to (==)\n",
    "*  Not equal to (!=)\n",
    "*  Greater than equal to (>=)\n",
    "*  Less than equal to (<=)"
   ]
  },
  {
   "cell_type": "code",
   "execution_count": null,
   "id": "b61874f0-a4b7-45b1-8c98-444795ac9823",
   "metadata": {},
   "outputs": [],
   "source": [
    "3. Logical Operators\n",
    "*  logical and\n",
    "*  logical or\n",
    "*  logical not"
   ]
  },
  {
   "cell_type": "code",
   "execution_count": null,
   "id": "a883e326-a726-4c9b-a737-35d2cdb5bddc",
   "metadata": {},
   "outputs": [],
   "source": [
    "4. Assignment Operators\n",
    "*  Addition assignment (+=)\n",
    "*  subtraction assignment (-=)\n",
    "*  Multiplication assignment (*=)\n",
    "*  Division assignment (/=)\n",
    "*  Modulus assignment (%=)\n",
    "*  Left shift assignment(<<=)\n",
    "*  Right shift assignment(>>=)"
   ]
  },
  {
   "cell_type": "code",
   "execution_count": 7,
   "id": "72fe5ad8-3ffd-4105-9540-13feedc5d96d",
   "metadata": {},
   "outputs": [
    {
     "name": "stdout",
     "output_type": "stream",
     "text": [
      "Arithmetic Operators\n",
      "Addition =  7\n",
      "Subtraction =  10\n",
      "Multiplication =  240\n",
      "Division =  0.13333333333333333\n",
      "Modulus =  5\n",
      "power =  256\n"
     ]
    }
   ],
   "source": [
    "print (\"Arithmetic Operators\")\n",
    "a=5\n",
    "b=10.5\n",
    "c=4*4\n",
    "d=15\n",
    "e=2\n",
    "\n",
    "print(\"Addition = \", a+e)\n",
    "print(\"Subtraction = \", d-a)\n",
    "print(\"Multiplication = \", c*d)\n",
    "print(\"Division = \", e/d)\n",
    "print(\"Modulus = \", a%d)\n",
    "print(\"power = \",c**e )"
   ]
  },
  {
   "cell_type": "code",
   "execution_count": 9,
   "id": "ce373792-bd01-4207-a9bd-2ba2fc6a257d",
   "metadata": {},
   "outputs": [
    {
     "name": "stdout",
     "output_type": "stream",
     "text": [
      "Comparision Operators\n"
     ]
    },
    {
     "name": "stdin",
     "output_type": "stream",
     "text": [
      "Enter the Number  10\n",
      "Enter the Number  16\n",
      "Enter the Number  45\n"
     ]
    },
    {
     "name": "stdout",
     "output_type": "stream",
     "text": [
      "b is grater than a\n",
      "b is less than c\n",
      "c is grater than a\n",
      "b is not equal to c\n"
     ]
    }
   ],
   "source": [
    "print (\"Comparision Operators\")\n",
    "a= int(input(\"Enter the Number \"))\n",
    "b= int(input(\"Enter the Number \"))\n",
    "c= int(input(\"Enter the Number \"))\n",
    "\n",
    "if a>b:\n",
    "    print (\"a is grater than b\")\n",
    "else :\n",
    "    print (\"b is grater than a\")\n",
    "\n",
    "if b<c:\n",
    "    print (\"b is less than c\")\n",
    "else :\n",
    "    print (\"c is less than b\")\n",
    "\n",
    "if a==c:\n",
    "    print (\"a is equal to c\")\n",
    "else :\n",
    "    print (\"c is grater than a\")\n",
    "\n",
    "if b!=c:\n",
    "    print (\"b is not equal to c\")\n",
    "else :\n",
    "    print (\"c is grater than b\")\n",
    "\n"
   ]
  },
  {
   "cell_type": "code",
   "execution_count": 17,
   "id": "bdf257d3-58a8-413a-97e8-c6e6f4d30a85",
   "metadata": {},
   "outputs": [
    {
     "name": "stdout",
     "output_type": "stream",
     "text": [
      "Logical Operators\n",
      "Both no. are greater than 0\n",
      "Boh are  not equal\n",
      "q has diff value\n"
     ]
    }
   ],
   "source": [
    "print (\"Logical Operators\")\n",
    "p = 20\n",
    "q = 35\n",
    "r = 45\n",
    "\n",
    "if p>0 and q>0 :\n",
    "    print (\"Both no. are greater than 0\")\n",
    "\n",
    "if p>r or r<p:\n",
    "    print (\"p is grater no.\")\n",
    "else:\n",
    "    print (\"Boh are  not equal\")\n",
    "\n",
    "if not q:\n",
    "    print (\"Boolean value of q is true\")\n",
    "else:\n",
    "    print (\"q has diff value\")\n",
    "    "
   ]
  }
 ],
 "metadata": {
  "kernelspec": {
   "display_name": "Python 3 (ipykernel)",
   "language": "python",
   "name": "python3"
  },
  "language_info": {
   "codemirror_mode": {
    "name": "ipython",
    "version": 3
   },
   "file_extension": ".py",
   "mimetype": "text/x-python",
   "name": "python",
   "nbconvert_exporter": "python",
   "pygments_lexer": "ipython3",
   "version": "3.13.1"
  }
 },
 "nbformat": 4,
 "nbformat_minor": 5
}
