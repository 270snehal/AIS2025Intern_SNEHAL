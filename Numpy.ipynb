{
 "cells": [
  {
   "cell_type": "markdown",
   "id": "47ec5758-a25e-4503-be69-de3bec6d22ef",
   "metadata": {},
   "source": [
    "# 1. Introduction to NumPy\n"
   ]
  },
  {
   "cell_type": "markdown",
   "id": "d9dc075f-019a-4d3e-bf04-4ff2b4ebdd52",
   "metadata": {},
   "source": [
    "* What NumPy is and why it’s important for numerical computations in Python.\n",
    "Installation of NumPy (pip install numpy).\n",
    "Understanding its role in data science, machine learning, and scientific computing.\n"
   ]
  },
  {
   "cell_type": "raw",
   "id": "90419a5c-b241-402f-a3e9-c2075a572b64",
   "metadata": {},
   "source": [
    "NumPy (Numerical Python) is a library for working with arrays and mathematical operations in Python. It provides support for large, multi-dimensional arrays and matrices, and is the foundation of most scientific computing in Python.\n",
    "NumPy plays a crucial role in:\n",
    "\n",
    "1. Data Science: NumPy is used for data manipulation, filtering, and analysis.\n",
    "2. Machine Learning: NumPy is used for numerical computations, such as linear algebra and optimization.\n",
    "3. Scientific Computing: NumPy is used for simulations, data analysis, and visualization."
   ]
  },
  {
   "cell_type": "code",
   "execution_count": 3,
   "id": "302bb5ce-31c4-4588-b600-bd5ae47e0b1f",
   "metadata": {},
   "outputs": [
    {
     "name": "stdout",
     "output_type": "stream",
     "text": [
      "Requirement already satisfied: numpy in c:\\users\\pc\\appdata\\local\\programs\\python\\python313\\lib\\site-packages (2.2.2)\n",
      "Note: you may need to restart the kernel to use updated packages.\n"
     ]
    }
   ],
   "source": [
    "pip install numpy"
   ]
  },
  {
   "cell_type": "markdown",
   "id": "2a1f19db-7f62-461a-8d72-dcf2428137b3",
   "metadata": {},
   "source": [
    "# 2. Arrays in NumPy\n"
   ]
  },
  {
   "cell_type": "markdown",
   "id": "1d2595a2-9bb7-48d0-9969-2d6c24afeb12",
   "metadata": {},
   "source": [
    "* Creating arrays using np.array(), np.zeros(), np.ones(), np.arange(), and np.linspace().\n",
    "Array indexing and slicing."
   ]
  },
  {
   "cell_type": "code",
   "execution_count": 4,
   "id": "a0d57326-b036-4294-9217-d932b69a8149",
   "metadata": {},
   "outputs": [
    {
     "name": "stdout",
     "output_type": "stream",
     "text": [
      "[1 2 3 4 5]\n",
      "<class 'numpy.ndarray'>\n"
     ]
    }
   ],
   "source": [
    "import numpy as np\n",
    "\n",
    "arr = np.array([1, 2, 3, 4, 5])\n",
    "\n",
    "print(arr)\n",
    "\n",
    "print(type(arr))"
   ]
  },
  {
   "cell_type": "code",
   "execution_count": 9,
   "id": "b6259372-596b-42da-abfc-c280a2ab8d8f",
   "metadata": {},
   "outputs": [
    {
     "name": "stdout",
     "output_type": "stream",
     "text": [
      "[0. 0. 0. 0. 0.]\n",
      "<class 'numpy.ndarray'>\n"
     ]
    }
   ],
   "source": [
    "import numpy as np\n",
    "arr = np.zeros(5)\n",
    "print(arr)\n",
    "print(type(arr))"
   ]
  },
  {
   "cell_type": "code",
   "execution_count": 10,
   "id": "409cde63-2ef8-4a1c-b44a-81157ce3ba5b",
   "metadata": {},
   "outputs": [
    {
     "name": "stdout",
     "output_type": "stream",
     "text": [
      "[1. 1. 1. 1. 1.]\n",
      "<class 'numpy.ndarray'>\n"
     ]
    }
   ],
   "source": [
    "import numpy as np\n",
    "arr = np.ones(5)\n",
    "print(arr)\n",
    "print(type(arr))"
   ]
  },
  {
   "cell_type": "markdown",
   "id": "9bc5a18f-d99b-4ae2-8345-d11b9ca463bd",
   "metadata": {},
   "source": [
    "* 0D array"
   ]
  },
  {
   "cell_type": "code",
   "execution_count": 12,
   "id": "eb313c56-042f-4c6a-b6b6-00818efd4f5e",
   "metadata": {},
   "outputs": [
    {
     "name": "stdout",
     "output_type": "stream",
     "text": [
      "45\n"
     ]
    }
   ],
   "source": [
    "import numpy as np\n",
    "\n",
    "arr = np.array(45)\n",
    "\n",
    "print(arr)"
   ]
  },
  {
   "cell_type": "markdown",
   "id": "557eb3c9-cb38-4911-ae1c-6290c8bfbaa9",
   "metadata": {},
   "source": [
    "* 1D array"
   ]
  },
  {
   "cell_type": "code",
   "execution_count": 13,
   "id": "1549129d-4c37-40b4-b16a-0b8fd9e31199",
   "metadata": {},
   "outputs": [
    {
     "name": "stdout",
     "output_type": "stream",
     "text": [
      "[1 2 3 4 5]\n"
     ]
    }
   ],
   "source": [
    "import numpy as np\n",
    "\n",
    "arr = np.array([1, 2, 3, 4, 5])\n",
    "\n",
    "print(arr)"
   ]
  },
  {
   "cell_type": "markdown",
   "id": "bfb23ea9-9b0c-452e-9646-2fffe1e21830",
   "metadata": {},
   "source": [
    "* 2D array"
   ]
  },
  {
   "cell_type": "code",
   "execution_count": 14,
   "id": "9ba9cf3b-cdae-4a65-808e-45a114e82105",
   "metadata": {},
   "outputs": [
    {
     "name": "stdout",
     "output_type": "stream",
     "text": [
      "[[1 2 3]\n",
      " [4 5 6]]\n"
     ]
    }
   ],
   "source": [
    "import numpy as np\n",
    "\n",
    "arr = np.array([[1, 2, 3], [4, 5, 6]])\n",
    "\n",
    "print(arr)"
   ]
  },
  {
   "cell_type": "markdown",
   "id": "be229f29-9b4e-41e3-9287-ad110f568069",
   "metadata": {},
   "source": [
    "* 3D array"
   ]
  },
  {
   "cell_type": "code",
   "execution_count": 15,
   "id": "9a6bcd10-85d4-4017-a7d9-469950082efd",
   "metadata": {},
   "outputs": [
    {
     "name": "stdout",
     "output_type": "stream",
     "text": [
      "[[[1 2 3]\n",
      "  [4 5 6]]\n",
      "\n",
      " [[1 2 3]\n",
      "  [4 5 6]]]\n"
     ]
    }
   ],
   "source": [
    "import numpy as np\n",
    "\n",
    "arr = np.array([[[1, 2, 3], [4, 5, 6]], [[1, 2, 3], [4, 5, 6]]])\n",
    "\n",
    "print(arr)"
   ]
  },
  {
   "cell_type": "markdown",
   "id": "1a27c453-fe79-4f83-9a18-c0d75c4e3ee8",
   "metadata": {},
   "source": [
    "# 3. Array Operations"
   ]
  },
  {
   "cell_type": "code",
   "execution_count": 20,
   "id": "af8892ef-4a6b-4bc1-87fc-7fba0027c431",
   "metadata": {},
   "outputs": [
    {
     "name": "stdout",
     "output_type": "stream",
     "text": [
      "[10  9  8  7  6  5  4  3  2  1]\n"
     ]
    }
   ],
   "source": [
    "import numpy as np \n",
    "\n",
    "#create an array \n",
    "arr= np.arange(10,0,-1)\n",
    "print(arr)"
   ]
  },
  {
   "cell_type": "code",
   "execution_count": 21,
   "id": "78e080a9-9fb7-4c5e-a6f8-5711bfe31d81",
   "metadata": {},
   "outputs": [
    {
     "name": "stdout",
     "output_type": "stream",
     "text": [
      "[0.         0.11111111 0.22222222 0.33333333 0.44444444 0.55555556\n",
      " 0.66666667 0.77777778 0.88888889 1.        ]\n"
     ]
    }
   ],
   "source": [
    "import numpy as np\n",
    "\n",
    "# Generate 10 numbers between 0 and 1\n",
    "array = np.linspace(0, 1, num=10)\n",
    "print(array)"
   ]
  },
  {
   "cell_type": "raw",
   "id": "d5e29450-fee3-41f9-92b3-a6b3bd18ada4",
   "metadata": {},
   "source": [
    "Indexing"
   ]
  },
  {
   "cell_type": "code",
   "execution_count": 23,
   "id": "7cbe0b22-18a0-4ed5-b33c-c6ef7429c375",
   "metadata": {},
   "outputs": [
    {
     "name": "stdout",
     "output_type": "stream",
     "text": [
      "7\n"
     ]
    }
   ],
   "source": [
    "import numpy as np\n",
    "\n",
    "arr = np.array([1, 2, 3, 4])\n",
    "\n",
    "print(arr[2] + arr[3])"
   ]
  },
  {
   "cell_type": "code",
   "execution_count": 24,
   "id": "69361ea1-ddd5-4595-9228-44142ca9ee10",
   "metadata": {},
   "outputs": [
    {
     "name": "stdout",
     "output_type": "stream",
     "text": [
      "6\n"
     ]
    }
   ],
   "source": [
    "import numpy as np\n",
    "\n",
    "arr = np.array([[[1, 2, 3], [4, 5, 6]], [[7, 8, 9], [10, 11, 12]]])\n",
    "\n",
    "print(arr[0, 1, 2])"
   ]
  },
  {
   "cell_type": "code",
   "execution_count": 25,
   "id": "c5a57cf6-0dc9-4d40-b175-f1551b3e4ae0",
   "metadata": {},
   "outputs": [
    {
     "name": "stdout",
     "output_type": "stream",
     "text": [
      "Last element from 2nd dim:  10\n"
     ]
    }
   ],
   "source": [
    "import numpy as np\n",
    "\n",
    "arr = np.array([[1,2,3,4,5], [6,7,8,9,10]])\n",
    "\n",
    "print('Last element from 2nd dim: ', arr[1, -1])"
   ]
  },
  {
   "cell_type": "raw",
   "id": "b899567d-f2f0-4d3f-9fab-eb4e18e745e0",
   "metadata": {},
   "source": [
    "slicing"
   ]
  },
  {
   "cell_type": "code",
   "execution_count": 26,
   "id": "a519c6c6-b24a-438e-9aef-08449a40e451",
   "metadata": {},
   "outputs": [
    {
     "name": "stdout",
     "output_type": "stream",
     "text": [
      "[1 2 3 4]\n"
     ]
    }
   ],
   "source": [
    "import numpy as np\n",
    "\n",
    "arr = np.array([1, 2, 3, 4, 5, 6, 7])\n",
    "\n",
    "print(arr[:4])"
   ]
  }
 ],
 "metadata": {
  "kernelspec": {
   "display_name": "Python 3 (ipykernel)",
   "language": "python",
   "name": "python3"
  },
  "language_info": {
   "codemirror_mode": {
    "name": "ipython",
    "version": 3
   },
   "file_extension": ".py",
   "mimetype": "text/x-python",
   "name": "python",
   "nbconvert_exporter": "python",
   "pygments_lexer": "ipython3",
   "version": "3.13.1"
  }
 },
 "nbformat": 4,
 "nbformat_minor": 5
}
