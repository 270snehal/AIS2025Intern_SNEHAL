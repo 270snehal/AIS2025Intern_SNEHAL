{
 "cells": [
  {
   "cell_type": "markdown",
   "id": "3c187965-401f-4a09-b1e9-31f28342874e",
   "metadata": {},
   "source": [
    "# 3. Array Operations"
   ]
  },
  {
   "cell_type": "markdown",
   "id": "38252796-a3a2-4d32-87f2-21390718a8d3",
   "metadata": {},
   "source": [
    "* Arithmetic operations on NumPy arrays (addition, subtraction, multiplication, division).\n",
    "Broadcasting (performing operations on arrays of different shapes).\n",
    "Element-wise operations and functions (e.g., np.sqrt(), np.sin(), np.exp())."
   ]
  },
  {
   "cell_type": "code",
   "execution_count": 4,
   "id": "ec77c483-195d-47b1-9038-ea0c1153b1b0",
   "metadata": {},
   "outputs": [
    {
     "name": "stdout",
     "output_type": "stream",
     "text": [
      "[ 2  4  6  8 10]\n"
     ]
    }
   ],
   "source": [
    "import numpy as np\n",
    "\n",
    "arr1 = np.array([1, 2, 3, 4, 5])\n",
    "arr2 = np.array([1,2,3,4,5])\n",
    "print(arr1+arr2)\n"
   ]
  },
  {
   "cell_type": "code",
   "execution_count": 5,
   "id": "e5b026e9-ff2f-43fb-99c2-4e3b8a5078d0",
   "metadata": {},
   "outputs": [
    {
     "name": "stdout",
     "output_type": "stream",
     "text": [
      "[0 0 0 0 0]\n"
     ]
    }
   ],
   "source": [
    "import numpy as np\n",
    "\n",
    "arr1 = np.array([1, 2, 3, 4, 5])\n",
    "arr2 = np.array([1,2,3,4,5])\n",
    "print(arr1-arr2)\n"
   ]
  },
  {
   "cell_type": "code",
   "execution_count": 6,
   "id": "b3d73b7d-f041-46d9-903c-890e539499fb",
   "metadata": {},
   "outputs": [
    {
     "name": "stdout",
     "output_type": "stream",
     "text": [
      "[ 1  4  9 16 25]\n"
     ]
    }
   ],
   "source": [
    "import numpy as np\n",
    "\n",
    "arr1 = np.array([1, 2, 3, 4, 5])\n",
    "arr2 = np.array([1,2,3,4,5])\n",
    "print(arr1*arr2)\n"
   ]
  },
  {
   "cell_type": "code",
   "execution_count": 7,
   "id": "d2d22d19-3b73-426a-af04-547fc53f4090",
   "metadata": {},
   "outputs": [
    {
     "name": "stdout",
     "output_type": "stream",
     "text": [
      "[1. 1. 1. 1. 1.]\n"
     ]
    }
   ],
   "source": [
    "import numpy as np\n",
    "\n",
    "arr1 = np.array([1, 2, 3, 4, 5])\n",
    "arr2 = np.array([1,2,3,4,5])\n",
    "print(arr1/arr2)\n"
   ]
  },
  {
   "cell_type": "raw",
   "id": "e82e0034-fcf1-4d3f-8fdf-800d310441f7",
   "metadata": {},
   "source": [
    " Broadcasting"
   ]
  },
  {
   "cell_type": "code",
   "execution_count": 8,
   "id": "0b856d00-1e0e-4cc7-ba0a-1803826bc2a4",
   "metadata": {},
   "outputs": [
    {
     "name": "stdout",
     "output_type": "stream",
     "text": [
      "[1 4 5 6]\n",
      "[ 5 20 25 30]\n"
     ]
    }
   ],
   "source": [
    "import numpy as np\n",
    "a=np.array([1,4,5,6])\n",
    "print(a)\n",
    "print(a*5)#scaler"
   ]
  },
  {
   "cell_type": "code",
   "execution_count": 9,
   "id": "046667aa-0a33-4b0c-b630-beb31db370bc",
   "metadata": {},
   "outputs": [
    {
     "name": "stdout",
     "output_type": "stream",
     "text": [
      "[1 4 5 6]\n",
      "(4,)\n",
      "1\n"
     ]
    }
   ],
   "source": [
    "import numpy as np\n",
    "arr1=np.array([1,4,5,6])\n",
    "print(arr1)\n",
    "print(arr1.shape)# shapeing\n",
    "print(arr1.ndim)# which diam"
   ]
  },
  {
   "cell_type": "code",
   "execution_count": 11,
   "id": "5fcf1cf6-653c-4761-b7af-1a890c6c49a7",
   "metadata": {},
   "outputs": [
    {
     "name": "stdout",
     "output_type": "stream",
     "text": [
      "(2, 3)\n",
      "[[ 2  8 12]\n",
      " [ 4  9 13]]\n"
     ]
    }
   ],
   "source": [
    "import numpy as np\n",
    "arr1=np.array([[1,4,7]])\n",
    "arr2=np.array([[1,4,5],[3,5,6]])\n",
    "print(arr2.shape)\n",
    "print(arr1+arr2)# mapping"
   ]
  },
  {
   "cell_type": "code",
   "execution_count": 14,
   "id": "b54ecd73-b1e1-45b0-b4bd-da0dbfe54467",
   "metadata": {},
   "outputs": [
    {
     "name": "stdout",
     "output_type": "stream",
     "text": [
      "Square Root: [1.         1.41421356 1.73205081 2.         2.23606798]\n"
     ]
    }
   ],
   "source": [
    "import numpy as np\n",
    "\n",
    "# Create an array\n",
    "arr = np.array([1 , 2 , 3 , 4 , 5 ])\n",
    "\n",
    "# Perform element-wise power and root functions\n",
    "print(\"Square Root:\", np.sqrt(arr))"
   ]
  },
  {
   "cell_type": "code",
   "execution_count": 15,
   "id": "8d588f30-2602-4ffc-af75-00c3231fba76",
   "metadata": {},
   "outputs": [
    {
     "name": "stdout",
     "output_type": "stream",
     "text": [
      "Sine: [ 0.0000000e+00  1.0000000e+00  1.2246468e-16 -1.0000000e+00\n",
      " -2.4492936e-16]\n"
     ]
    }
   ],
   "source": [
    "import numpy as np\n",
    "\n",
    "arr = np.array([0, np.pi/2, np.pi, 3*np.pi/2, 2*np.pi])\n",
    "\n",
    "print(\"Sine:\", np.sin(arr))"
   ]
  },
  {
   "cell_type": "code",
   "execution_count": 16,
   "id": "a39adeaf-21d0-450e-a1a7-30e5e33313e5",
   "metadata": {},
   "outputs": [
    {
     "name": "stdout",
     "output_type": "stream",
     "text": [
      "Exponential: [  2.71828183   7.3890561   20.08553692  54.59815003 148.4131591 ]\n"
     ]
    }
   ],
   "source": [
    "import numpy as np\n",
    "\n",
    "arr = np.array([1, 2, 3, 4, 5])\n",
    "\n",
    "print(\"Exponential:\", np.exp(arr))"
   ]
  },
  {
   "cell_type": "markdown",
   "id": "dc7f9081-492d-4e6f-baac-b5639a79dfea",
   "metadata": {},
   "source": [
    "# 4. Array Shapes and Reshaping"
   ]
  },
  {
   "cell_type": "markdown",
   "id": "2b3f5ac3-2f23-40c4-b8b7-91db12e7af18",
   "metadata": {},
   "source": [
    "* Checking array dimensions with .shape and .ndim.\n",
    "Changing array shape with .reshape(), .flatten(), .transpose().\n",
    "Concatenating and splitting arrays using np.concatenate(), np.vstack(), np.hstack(), np.split()."
   ]
  },
  {
   "cell_type": "raw",
   "id": "e7e6a65a-d9b0-4be4-aae7-fa49c5a31ddd",
   "metadata": {},
   "source": [
    ".shape()"
   ]
  },
  {
   "cell_type": "code",
   "execution_count": 18,
   "id": "00d18afc-61bc-47cb-9031-8a4b530fbfcf",
   "metadata": {},
   "outputs": [
    {
     "name": "stdout",
     "output_type": "stream",
     "text": [
      "Array shape: (2, 3)\n"
     ]
    }
   ],
   "source": [
    "import numpy as np\n",
    "\n",
    "arr = np.array([[1, 2, 3], [4, 5, 6]]) \n",
    "print(\"Array shape:\", arr.shape)"
   ]
  },
  {
   "cell_type": "raw",
   "id": "c3089547-b2f8-443f-bb47-8e8cbd012db5",
   "metadata": {},
   "source": [
    ".ndim()"
   ]
  },
  {
   "cell_type": "code",
   "execution_count": 19,
   "id": "2b6b6e4f-f214-490a-b122-554c7ebf3c6c",
   "metadata": {},
   "outputs": [
    {
     "name": "stdout",
     "output_type": "stream",
     "text": [
      "Number of dimensions: 2\n"
     ]
    }
   ],
   "source": [
    "import numpy as np\n",
    "arr = np.array([[1, 2, 3], [4, 5, 6]])  \n",
    "print(\"Number of dimensions:\", arr.ndim)"
   ]
  },
  {
   "cell_type": "raw",
   "id": "c08bab1a-952c-42ee-92e0-95f3c223b346",
   "metadata": {},
   "source": [
    ".reshape()"
   ]
  },
  {
   "cell_type": "code",
   "execution_count": 21,
   "id": "7c882367-0a89-47e4-a88e-dbc92860d6c2",
   "metadata": {},
   "outputs": [
    {
     "name": "stdout",
     "output_type": "stream",
     "text": [
      "[[1 2 3]\n",
      " [4 5 6]]\n"
     ]
    }
   ],
   "source": [
    "import numpy as np\n",
    "arr = np.array([1, 2, 3, 4, 5, 6])\n",
    "\n",
    "reshaped_arr = np.reshape(arr, (2, 3))\n",
    "print(reshaped_arr)"
   ]
  },
  {
   "cell_type": "raw",
   "id": "df3c5172-a913-4a68-81f8-34a99a69b0de",
   "metadata": {},
   "source": [
    ".flatten()"
   ]
  },
  {
   "cell_type": "code",
   "execution_count": 22,
   "id": "ac907f45-c7fe-4377-ac9b-68718d808b55",
   "metadata": {},
   "outputs": [
    {
     "name": "stdout",
     "output_type": "stream",
     "text": [
      "Original shape: (2, 3)\n",
      "Flattened shape: (6,)\n",
      "[1 2 3 4 5 6]\n"
     ]
    }
   ],
   "source": [
    "import numpy as np\n",
    "arr = np.array([[1, 2, 3], [4, 5, 6]])  \n",
    "print(\"Original shape:\", arr.shape)  # Output: (2, 3)\n",
    "flat_arr = arr.flatten()  \n",
    "print(\"Flattened shape:\", flat_arr.shape)  # Output: (6,)\n",
    "print(flat_arr)  # Output: [1 2 3 4 5 6]"
   ]
  },
  {
   "cell_type": "raw",
   "id": "a48fd416-1420-44ed-9902-8f95056ce0c4",
   "metadata": {},
   "source": [
    ".transpose()"
   ]
  },
  {
   "cell_type": "code",
   "execution_count": 24,
   "id": "30f523ff-76ce-4dec-9103-cf2901dbc206",
   "metadata": {},
   "outputs": [
    {
     "name": "stdout",
     "output_type": "stream",
     "text": [
      "[[1 2 3]\n",
      " [4 5 6]\n",
      " [7 8 9]]\n",
      "\n",
      "[[1 4 7]\n",
      " [2 5 8]\n",
      " [3 6 9]]\n"
     ]
    }
   ],
   "source": [
    "# importing python module named numpy\n",
    "import numpy as np\n",
    "\n",
    "# making a 3x3 array\n",
    "gfg = np.array([[1, 2, 3],\n",
    "\t\t\t\t[4, 5, 6],\n",
    "\t\t\t\t[7, 8, 9]])\n",
    "\n",
    "# before transpose\n",
    "print(gfg, end ='\\n\\n')\n",
    "\n",
    "# after transpose\n",
    "print(gfg.transpose())"
   ]
  },
  {
   "cell_type": "raw",
   "id": "eb52c241-a5ce-4664-9106-8819775fa778",
   "metadata": {},
   "source": [
    ". np.concatenate()"
   ]
  },
  {
   "cell_type": "code",
   "execution_count": 25,
   "id": "a544c767-44d7-4c6f-a144-4e59870550c0",
   "metadata": {},
   "outputs": [
    {
     "name": "stdout",
     "output_type": "stream",
     "text": [
      "[[1 2]\n",
      " [3 4]\n",
      " [5 6]]\n"
     ]
    }
   ],
   "source": [
    "import numpy as np\n",
    "a = np.array([[1, 2], [3, 4]])\n",
    "b = np.array([[5, 6]])\n",
    "c = np.concatenate((a, b), axis=0)\n",
    "print(c)"
   ]
  },
  {
   "cell_type": "raw",
   "id": "9a2aeb82-3ce3-4b33-b9df-edd598a27419",
   "metadata": {},
   "source": [
    ". np.vstack()"
   ]
  },
  {
   "cell_type": "code",
   "execution_count": 26,
   "id": "6c3cba0e-64ad-4826-9309-e82579bd77b1",
   "metadata": {},
   "outputs": [
    {
     "data": {
      "text/plain": [
       "array([[1],\n",
       "       [2],\n",
       "       [3],\n",
       "       [4],\n",
       "       [5],\n",
       "       [6]])"
      ]
     },
     "execution_count": 26,
     "metadata": {},
     "output_type": "execute_result"
    }
   ],
   "source": [
    "import numpy as np\n",
    "\n",
    "a = np.array([[1], [2], [3]])\n",
    "b = np.array([[4], [5], [6]])\n",
    "np.vstack((a,b))\n",
    "np.vstack((a,b))"
   ]
  },
  {
   "cell_type": "raw",
   "id": "95904ab9-af46-452b-bf53-8d4293d53a1d",
   "metadata": {},
   "source": [
    ". np.hstack()"
   ]
  },
  {
   "cell_type": "code",
   "execution_count": 27,
   "id": "84075414-1c06-40de-be62-c065acd583c8",
   "metadata": {},
   "outputs": [
    {
     "data": {
      "text/plain": [
       "array([[1, 4],\n",
       "       [2, 5],\n",
       "       [3, 6]])"
      ]
     },
     "execution_count": 27,
     "metadata": {},
     "output_type": "execute_result"
    }
   ],
   "source": [
    "import numpy as np\n",
    "a = np.array((1,2,3))\n",
    "b = np.array((4,5,6))\n",
    "np.hstack((a,b))\n",
    "a = np.array([[1],[2],[3]])\n",
    "b = np.array([[4],[5],[6]])\n",
    "np.hstack((a,b))"
   ]
  },
  {
   "cell_type": "raw",
   "id": "fbed4f38-9bff-4a2d-b9ef-189684888515",
   "metadata": {},
   "source": [
    ". np.split()"
   ]
  },
  {
   "cell_type": "code",
   "execution_count": 31,
   "id": "07e6d6fb-97ac-4c5b-910f-6376e861112d",
   "metadata": {},
   "outputs": [
    {
     "name": "stdout",
     "output_type": "stream",
     "text": [
      "[array([1, 2]), array([3, 4]), array([5])]\n"
     ]
    }
   ],
   "source": [
    "import numpy as np\n",
    "arr = np.array([1,2,3,4,5])\n",
    "newarr = np.array_split(arr,3)\n",
    "print(newarr)"
   ]
  },
  {
   "cell_type": "code",
   "execution_count": null,
   "id": "cfe14370-5507-43be-93ea-0e57235b230c",
   "metadata": {},
   "outputs": [],
   "source": []
  }
 ],
 "metadata": {
  "kernelspec": {
   "display_name": "Python 3 (ipykernel)",
   "language": "python",
   "name": "python3"
  },
  "language_info": {
   "codemirror_mode": {
    "name": "ipython",
    "version": 3
   },
   "file_extension": ".py",
   "mimetype": "text/x-python",
   "name": "python",
   "nbconvert_exporter": "python",
   "pygments_lexer": "ipython3",
   "version": "3.13.1"
  }
 },
 "nbformat": 4,
 "nbformat_minor": 5
}
