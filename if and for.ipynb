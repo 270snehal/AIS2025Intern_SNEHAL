{
 "cells": [
  {
   "cell_type": "markdown",
   "id": "575817ef-639a-4793-8a6c-6cbefb6f6a2c",
   "metadata": {},
   "source": [
    "# CONDITIONS"
   ]
  },
  {
   "cell_type": "markdown",
   "id": "6130350b-04ee-4bec-9f3a-fb62c025506f",
   "metadata": {},
   "source": [
    "* if"
   ]
  },
  {
   "cell_type": "markdown",
   "id": "a725fa31-199a-4852-8995-ee9edd9923af",
   "metadata": {},
   "source": [
    "a = 46\n",
    "b = 254\n",
    "\n",
    "if b > a:\n",
    "  print(\"b is greater than a\")"
   ]
  },
  {
   "cell_type": "markdown",
   "id": "79de5a8b-de48-4da6-aa05-8775b5f4dd37",
   "metadata": {},
   "source": [
    "* IF ELSE"
   ]
  },
  {
   "cell_type": "code",
   "execution_count": 1,
   "id": "fdc586dd-58c1-47e7-bf66-2525fca84ae4",
   "metadata": {},
   "outputs": [
    {
     "name": "stdout",
     "output_type": "stream",
     "text": [
      " a is greater than b\n"
     ]
    }
   ],
   "source": [
    "a =200\n",
    "b= 100\n",
    "if b<a:\n",
    "  print (\" a is greater than b\")\n",
    "else :\n",
    "   print (\" b is greater than a\") "
   ]
  },
  {
   "cell_type": "markdown",
   "id": "949370b3-13bb-45cf-9ccf-9455a1661ccf",
   "metadata": {},
   "source": [
    "* if elif else"
   ]
  },
  {
   "cell_type": "code",
   "execution_count": 2,
   "id": "57c447b5-853e-4ae7-ba93-fd3381d4e42f",
   "metadata": {},
   "outputs": [
    {
     "name": "stdout",
     "output_type": "stream",
     "text": [
      " a is greater than b\n"
     ]
    }
   ],
   "source": [
    "a =200\n",
    "b=100\n",
    "if b<a:\n",
    "  print (\" a is greater than b\")\n",
    "\n",
    "elif a==b:\n",
    "    print (\"both are equal\")\n",
    "    \n",
    "else :\n",
    "   print (\" b is greater than a\") "
   ]
  },
  {
   "cell_type": "markdown",
   "id": "f2b1aae6-2db0-486b-aa0c-6f533395e392",
   "metadata": {},
   "source": [
    "* if elif ladder"
   ]
  },
  {
   "cell_type": "code",
   "execution_count": 3,
   "id": "de73144b-0666-46d7-8fde-90f63b24775a",
   "metadata": {},
   "outputs": [
    {
     "name": "stdin",
     "output_type": "stream",
     "text": [
      "enter the marks 80\n"
     ]
    },
    {
     "name": "stdout",
     "output_type": "stream",
     "text": [
      "outstanding\n"
     ]
    }
   ],
   "source": [
    "p =int(input(\"enter the marks\"))\n",
    "if p > 75:\n",
    "    print(\"outstanding\")\n",
    "elif p > 60 and p < 75:\n",
    "    print(\"A-grade\")\n",
    "elif p > 50 and p < 60:\n",
    "    print(\"B-grade\")\n",
    "elif p > 34 and p < 50:\n",
    "    print(\"C-grade\")\n",
    "elif p < 35:\n",
    "    print(\"fail\")"
   ]
  },
  {
   "cell_type": "code",
   "execution_count": 5,
   "id": "eba33806-907d-4f62-b1fe-21f15fa99509",
   "metadata": {},
   "outputs": [
    {
     "name": "stdin",
     "output_type": "stream",
     "text": [
      "enter the marks 45\n"
     ]
    }
   ],
   "source": [
    "p =int(input(\"enter the marks\"))\n",
    "if p % 2 == 0 & p % 3 == 1:\n",
    "    print(\"2 divisble, 3 not\")\n",
    "elif p % 2 == 0 & p % 3 == 0:\n",
    "    print(\"divisible by 2,and 3\")\n",
    "elif p % 2 == 1 & p % 3 == 0:\n",
    "    print(\"divisible by 3, not 2\")\n",
    "elif p % 2 == 1 & p % 3 == 1:\n",
    "    print(\"not divisible by 2, and 3\")"
   ]
  },
  {
   "cell_type": "code",
   "execution_count": 6,
   "id": "df347649-8cd4-4770-9198-22003bcb69d7",
   "metadata": {},
   "outputs": [
    {
     "name": "stdin",
     "output_type": "stream",
     "text": [
      "enter the marks 76\n"
     ]
    },
    {
     "name": "stdout",
     "output_type": "stream",
     "text": [
      "divisible by 2,and 3\n"
     ]
    }
   ],
   "source": [
    "p =int(input(\"enter the marks\"))\n",
    "if p % 2 == 0 & p % 3 == 1:\n",
    "    print(\"2 divisble, 3 not\")\n",
    "elif p % 2 == 0 & p % 3 == 0:\n",
    "    print(\"divisible by 2,and 3\")\n",
    "elif p % 2 == 1 & p % 3 == 0:\n",
    "    print(\"divisible by 3, not 2\")\n",
    "elif p % 2 == 1 & p % 3 == 1:\n",
    "    print(\"not divisible by 2, and 3\")"
   ]
  },
  {
   "cell_type": "markdown",
   "id": "bbd01e8c-40cd-4ff1-b246-3be7d500a04f",
   "metadata": {},
   "source": [
    "* for loop"
   ]
  },
  {
   "cell_type": "markdown",
   "id": "457128ce-fe77-45c4-9e6a-47be8d9bea94",
   "metadata": {},
   "source": [
    "1)print odd value between 20 and 80, without using if. Using for loop only"
   ]
  },
  {
   "cell_type": "code",
   "execution_count": 13,
   "id": "a87a427d-98e1-4fa5-9c06-9e0c207435c5",
   "metadata": {},
   "outputs": [
    {
     "name": "stdout",
     "output_type": "stream",
     "text": [
      "21\n",
      "23\n",
      "25\n",
      "27\n",
      "29\n",
      "31\n",
      "33\n",
      "35\n",
      "37\n",
      "39\n",
      "41\n",
      "43\n",
      "45\n",
      "47\n",
      "49\n",
      "51\n",
      "53\n",
      "55\n",
      "57\n",
      "59\n",
      "61\n",
      "63\n",
      "65\n",
      "67\n",
      "69\n",
      "71\n",
      "73\n",
      "75\n",
      "77\n",
      "79\n"
     ]
    }
   ],
   "source": [
    "for i in range(21, 80, 2):\n",
    "    print(i)"
   ]
  },
  {
   "cell_type": "markdown",
   "id": "aaf498a3-192f-48e0-b5e3-3ff0985e01d1",
   "metadata": {},
   "source": [
    "2) creat a list of 1 to 20 number using for loop [1,2,3..20]"
   ]
  },
  {
   "cell_type": "code",
   "execution_count": 24,
   "id": "15c02b26-ef30-4f6c-b8bb-1b210cad9b07",
   "metadata": {},
   "outputs": [
    {
     "name": "stdout",
     "output_type": "stream",
     "text": [
      "20\n"
     ]
    }
   ],
   "source": [
    "num=[]\n",
    "for i in range(1,21):\n",
    "     num.append(i)\n",
    "print(i)"
   ]
  },
  {
   "cell_type": "markdown",
   "id": "fb392bd3-f3b3-49ed-9884-9325667fd997",
   "metadata": {},
   "source": [
    "3)create a  list of 20 to 1 value using  for loop (dont Use Reverse)\n",
    "[20,19,18,...3,2,1]"
   ]
  },
  {
   "cell_type": "code",
   "execution_count": 25,
   "id": "d1c9f466-29da-44e6-999a-58ced7cddcbd",
   "metadata": {},
   "outputs": [
    {
     "name": "stdout",
     "output_type": "stream",
     "text": [
      "[20, 19, 18, 17, 16, 15, 14, 13, 12, 11, 10, 9, 8, 7, 6, 5, 4, 3, 2, 1]\n"
     ]
    }
   ],
   "source": [
    "my_list = []\n",
    "for i in range(20, 0, -1):\n",
    "    my_list.append(i)\n",
    "print(my_list)"
   ]
  },
  {
   "cell_type": "markdown",
   "id": "fef78771-eff3-494c-a77c-fd091e8b9727",
   "metadata": {},
   "source": [
    "4)take Cube of odd values between 20 to 40"
   ]
  },
  {
   "cell_type": "code",
   "execution_count": 26,
   "id": "e28d9f5a-d88b-4c44-88d5-aee4e3d2ec43",
   "metadata": {},
   "outputs": [
    {
     "name": "stdout",
     "output_type": "stream",
     "text": [
      "[9261, 12167, 15625, 19683, 24389, 29791, 35937, 42875, 50653, 59319]\n"
     ]
    }
   ],
   "source": [
    "cubes_of_odds = [(num ** 3) for num in range(21, 40, 2)]\n",
    "print(cubes_of_odds)"
   ]
  },
  {
   "cell_type": "markdown",
   "id": "b797f40a-a687-48cf-8dbf-86e3284d121b",
   "metadata": {},
   "source": [
    "5) take 5 freinds name in list name=[a,b,c,d,e]\n",
    "take corresponding ages in second list age = [20,21,23,25,24]\n",
    "expected ans:\n",
    "    my name is a , my age is 20\n",
    "    my name is b, my age is 21"
   ]
  },
  {
   "cell_type": "code",
   "execution_count": 30,
   "id": "6317df50-906c-418b-bcbb-ec246ca44e3f",
   "metadata": {},
   "outputs": [
    {
     "name": "stdout",
     "output_type": "stream",
     "text": [
      "My name is snehal, My age is 20\n",
      "My name is sayee, My age is 21\n",
      "My name is yash, My age is 21\n",
      "My name is rohit, My age is 23\n",
      "My name is eresh, My age is 24\n"
     ]
    }
   ],
   "source": [
    "name = ['snehal','sayee','yash','rohit','eresh']\n",
    "ages = [20,21,21,23,24]\n",
    "\n",
    "for x in range(len(name)):\n",
    "    print(f\"My name is {name[x]}, My age is {ages[x]}\")"
   ]
  }
 ],
 "metadata": {
  "kernelspec": {
   "display_name": "Python 3 (ipykernel)",
   "language": "python",
   "name": "python3"
  },
  "language_info": {
   "codemirror_mode": {
    "name": "ipython",
    "version": 3
   },
   "file_extension": ".py",
   "mimetype": "text/x-python",
   "name": "python",
   "nbconvert_exporter": "python",
   "pygments_lexer": "ipython3",
   "version": "3.13.1"
  }
 },
 "nbformat": 4,
 "nbformat_minor": 5
}
