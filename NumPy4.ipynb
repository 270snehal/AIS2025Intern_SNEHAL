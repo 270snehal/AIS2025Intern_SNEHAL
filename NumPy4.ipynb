{
 "cells": [
  {
   "cell_type": "markdown",
   "id": "9a646e84-e924-4b7e-ab93-af335ac3eaee",
   "metadata": {},
   "source": [
    "# 7.Random Number Generation"
   ]
  },
  {
   "cell_type": "markdown",
   "id": "996db603-3cc9-49ca-a785-33e03aceeb9b",
   "metadata": {},
   "source": [
    "* Generating random numbers using np.random (e.g., np.random.rand(), np.random.randint()).\n",
    "Seeding random number generation (np.random.seed()).\n",
    "Random sampling, shuffling, and permutations.\n"
   ]
  },
  {
   "cell_type": "code",
   "execution_count": 1,
   "id": "5e6492e3-09b9-4b00-8386-17afba134445",
   "metadata": {},
   "outputs": [
    {
     "name": "stdout",
     "output_type": "stream",
     "text": [
      "0.645175621146721\n",
      "[0.0231654  0.15109773 0.44783517 0.79377045 0.20177201]\n",
      "[[0.57952147 0.27517443 0.30479103]\n",
      " [0.22999075 0.36478318 0.02549455]]\n"
     ]
    }
   ],
   "source": [
    "\n",
    "import numpy as np\n",
    "random_number = np.random.rand()\n",
    "print(random_number)\n",
    "\n",
    "random_array = np.random.rand(5)\n",
    "print(random_array)\n",
    "\n",
    "\n",
    "random_matrix = np.random.rand(2, 3)\n",
    "print(random_matrix)\n"
   ]
  },
  {
   "cell_type": "code",
   "execution_count": 2,
   "id": "8151efc3-4019-4c07-8319-d55ed30cf163",
   "metadata": {},
   "outputs": [
    {
     "name": "stdout",
     "output_type": "stream",
     "text": [
      "1\n",
      "[2 7 7 3 5]\n",
      "[[7 5 8]\n",
      " [5 1 0]]\n"
     ]
    }
   ],
   "source": [
    "import numpy as np\n",
    "\n",
    "random_integer = np.random.randint(0, 11)\n",
    "print(random_integer)\n",
    "\n",
    "random_array = np.random.randint(0, 11, size=5)\n",
    "print(random_array)\n",
    "\n",
    "random_matrix = np.random.randint(0, 11, size=(2, 3))\n",
    "print(random_matrix)"
   ]
  },
  {
   "cell_type": "code",
   "execution_count": 3,
   "id": "f9eef988-7430-4052-9995-22612b369ff5",
   "metadata": {},
   "outputs": [
    {
     "name": "stdout",
     "output_type": "stream",
     "text": [
      "[0.37454012 0.95071431 0.73199394 0.59865848 0.15601864]\n"
     ]
    }
   ],
   "source": [
    "import numpy as np\n",
    "\n",
    "np.random.seed(42)\n",
    "\n",
    "random_numbers = np.random.rand(5)\n",
    "print(random_numbers)\n"
   ]
  },
  {
   "cell_type": "code",
   "execution_count": 4,
   "id": "95860953-fd94-48e6-ace6-ae63aef0aa7a",
   "metadata": {},
   "outputs": [
    {
     "name": "stdout",
     "output_type": "stream",
     "text": [
      "Population: [ 1  2  3  4  5  6  7  8  9 10]\n",
      "Sample: [1 2 9]\n"
     ]
    }
   ],
   "source": [
    "import numpy as np\n",
    "\n",
    "population = np.arange(1, 11)\n",
    "sample = np.random.choice(population, size=3, replace=False)\n",
    "\n",
    "print(\"Population:\", population)\n",
    "print(\"Sample:\", sample)\n"
   ]
  },
  {
   "cell_type": "code",
   "execution_count": 5,
   "id": "19b95cbc-a5dd-4d1c-bfa3-4f91ba463449",
   "metadata": {},
   "outputs": [
    {
     "name": "stdout",
     "output_type": "stream",
     "text": [
      "Original Array: [ 1  2  3  4  5  6  7  8  9 10]\n",
      "Shuffled Array: [10  3  1  7  9  6  4  8  2  5]\n"
     ]
    }
   ],
   "source": [
    "import numpy as np\n",
    "\n",
    "arr = np.arange(1, 11)\n",
    "\n",
    "np.random.shuffle(arr)\n",
    "\n",
    "print(\"Original Array:\", np.arange(1, 11))\n",
    "print(\"Shuffled Array:\", arr)"
   ]
  },
  {
   "cell_type": "code",
   "execution_count": 6,
   "id": "b79b3801-5485-4c9b-a112-4b25b6ca69a3",
   "metadata": {},
   "outputs": [
    {
     "name": "stdout",
     "output_type": "stream",
     "text": [
      "Permutations:\n",
      "(1, 2, 3)\n",
      "(1, 3, 2)\n",
      "(2, 1, 3)\n",
      "(2, 3, 1)\n",
      "(3, 1, 2)\n",
      "(3, 2, 1)\n"
     ]
    }
   ],
   "source": [
    "import itertools\n",
    "\n",
    "elements = [1, 2, 3]\n",
    "\n",
    "permutations = list(itertools.permutations(elements))\n",
    "\n",
    "print(\"Permutations:\")\n",
    "for permutation in permutations:\n",
    "    print(permutation)\n"
   ]
  },
  {
   "cell_type": "code",
   "execution_count": 7,
   "id": "073571dc-a6c3-4a92-a286-cc714d9065ea",
   "metadata": {},
   "outputs": [
    {
     "name": "stdout",
     "output_type": "stream",
     "text": [
      "Original Array: [ 1  2  3  4  5  6  7  8  9 10]\n",
      "Random Permutation: [ 2  8  7  3  9  1  4  5  6 10]\n"
     ]
    }
   ],
   "source": [
    "\n",
    "import numpy as np\n",
    "\n",
    "arr = np.arange(1, 11)\n",
    "\n",
    "random_permutation = np.random.permutation(arr)\n",
    "\n",
    "print(\"Original Array:\", arr)\n",
    "print(\"Random Permutation:\", random_permutation)"
   ]
  },
  {
   "cell_type": "markdown",
   "id": "0f8ab13d-384f-473e-85e3-819003508e3b",
   "metadata": {},
   "source": [
    "# Broadcasting"
   ]
  },
  {
   "cell_type": "markdown",
   "id": "6f30fd10-4cc2-4f5a-ba1c-67a623538c26",
   "metadata": {},
   "source": [
    "* Understanding how NumPy handles operations between arrays of different shapes.\n",
    "Rules of broadcasting (e.g., matching dimensions, aligning axes)."
   ]
  },
  {
   "cell_type": "code",
   "execution_count": 8,
   "id": "e972b7d1-bbbd-4813-97df-13d8be23c5f0",
   "metadata": {},
   "outputs": [
    {
     "name": "stdout",
     "output_type": "stream",
     "text": [
      "[[ 10  40  90]\n",
      " [ 40 100 180]]\n"
     ]
    }
   ],
   "source": [
    " # Multiplying a 2D Array by a 1D Array\n",
    "\n",
    "\n",
    "import numpy as np\n",
    "\n",
    "arr2d = np.array([[1, 2, 3], [4, 5, 6]])\n",
    "\n",
    "arr1d = np.array([10, 20, 30])\n",
    "\n",
    "result = arr2d * arr1d\n",
    "\n",
    "print(result)"
   ]
  },
  {
   "cell_type": "code",
   "execution_count": 9,
   "id": "cf104266-e699-4fe7-b945-58aedc676bb5",
   "metadata": {},
   "outputs": [
    {
     "name": "stdout",
     "output_type": "stream",
     "text": [
      "[[11 12]\n",
      " [23 24]]\n"
     ]
    }
   ],
   "source": [
    "# Broadcasting with Arrays of Different Shapes\n",
    "\n",
    "\n",
    "import numpy as np\n",
    "\n",
    "arr1 = np.array([[1, 2], [3, 4]])\n",
    "arr2 = np.array([[10], [20]])\n",
    "\n",
    "result = arr1 + arr2\n",
    "\n",
    "print(result)"
   ]
  },
  {
   "cell_type": "code",
   "execution_count": null,
   "id": "0ccc3b5b-ed15-4fcb-a6cd-cf8c6b5c0a14",
   "metadata": {},
   "outputs": [],
   "source": []
  }
 ],
 "metadata": {
  "kernelspec": {
   "display_name": "Python 3 (ipykernel)",
   "language": "python",
   "name": "python3"
  },
  "language_info": {
   "codemirror_mode": {
    "name": "ipython",
    "version": 3
   },
   "file_extension": ".py",
   "mimetype": "text/x-python",
   "name": "python",
   "nbconvert_exporter": "python",
   "pygments_lexer": "ipython3",
   "version": "3.13.1"
  }
 },
 "nbformat": 4,
 "nbformat_minor": 5
}
