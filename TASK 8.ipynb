{
 "cells": [
  {
   "cell_type": "code",
   "execution_count": 3,
   "id": "7d6bb8d3-125a-41c9-a066-453afcf92080",
   "metadata": {},
   "outputs": [],
   "source": [
    "import pandas as pd\n",
    "import numpy as np\n",
    "import matplotlib.pyplot as plt\n",
    "import seaborn as sns\n",
    "from scipy import stats\n",
    "from sklearn.preprocessing import StandardScaler, MinMaxScaler\n",
    "from sklearn.decomposition import PCA"
   ]
  },
  {
   "cell_type": "code",
   "execution_count": 4,
   "id": "1f3b7948-6aa2-4c60-aab0-a1e87a67d95a",
   "metadata": {},
   "outputs": [],
   "source": [
    "df = pd.DataFrame({\n",
    "    'Feature1': np.random.randint(10, 100, 50),\n",
    "    'Feature2': np.random.randint(200, 1000, 50),\n",
    "    'Feature3': np.random.randint(1, 500, 50)\n",
    "})"
   ]
  },
  {
   "cell_type": "code",
   "execution_count": 15,
   "id": "8f841495-e42f-43da-8103-f0fc7623dc6f",
   "metadata": {},
   "outputs": [
    {
     "name": "stdout",
     "output_type": "stream",
     "text": [
      "Detected Outliers:\n",
      " Empty DataFrame\n",
      "Columns: [Feature1, Feature2, Feature3, Outlier_Column]\n",
      "Index: []\n"
     ]
    }
   ],
   "source": [
    "import pandas as pd\n",
    "import numpy as np\n",
    "\n",
    "# Sample DataFrame (Replace with actual data)\n",
    "df = pd.DataFrame({\n",
    "    'Feature1': np.random.randint(10, 100, 50),\n",
    "    'Feature2': np.random.randint(200, 1000, 50),\n",
    "    'Feature3': np.random.randint(1, 500, 50)\n",
    "})\n",
    "\n",
    "# Create an empty DataFrame to store all outliers\n",
    "outliers_df = pd.DataFrame()\n",
    "\n",
    "for col in df.columns:\n",
    "    Q1 = np.percentile(df[col], 25)\n",
    "    Q3 = np.percentile(df[col], 75)\n",
    "    IQR = Q3 - Q1\n",
    "    lower_bound = Q1 - 1.5 * IQR\n",
    "    upper_bound = Q3 + 1.5 * IQR\n",
    "    \n",
    "    # Get outliers for the current column\n",
    "    outliers = df[(df[col] < lower_bound) | (df[col] > upper_bound)].copy()\n",
    "    outliers[\"Outlier_Column\"] = col  # Label the column where the outlier was found\n",
    "    \n",
    "    # Append to outliers_df\n",
    "    outliers_df = pd.concat([outliers_df, outliers])\n",
    "\n",
    "# Print all outliers in a structured format\n",
    "print(\"Detected Outliers:\\n\", outliers_df)\n"
   ]
  },
  {
   "cell_type": "code",
   "execution_count": 16,
   "id": "090ae84f-41de-4f6f-9a8e-99f0d6989903",
   "metadata": {},
   "outputs": [
    {
     "name": "stdout",
     "output_type": "stream",
     "text": [
      "Empty DataFrame\n",
      "Columns: [Feature1, Feature2, Feature3]\n",
      "Index: []\n",
      "Empty DataFrame\n",
      "Columns: [Feature1, Feature2, Feature3]\n",
      "Index: []\n",
      "Empty DataFrame\n",
      "Columns: [Feature1, Feature2, Feature3]\n",
      "Index: []\n"
     ]
    }
   ],
   "source": [
    "### 1. Handling Outliers with Quartiles & Tukey’s Method ###\n",
    "# def detect_outliers_tukey(data, column):\n",
    "for col in df.columns:\n",
    "    Q1 = np.percentile(df[col], 25)\n",
    "    Q3 = np.percentile(df[col], 75)\n",
    "    IQR = Q3 - Q1\n",
    "    lower_bound = Q1 - 1.5 * IQR\n",
    "    upper_bound = Q3 + 1.5 * IQR\n",
    "    print(df[(df[col] < lower_bound) | (df[col] > upper_bound)])\n"
   ]
  },
  {
   "cell_type": "code",
   "execution_count": 6,
   "id": "98e91fda-d168-484a-ba88-74fb4bba05e0",
   "metadata": {},
   "outputs": [
    {
     "data": {
      "image/png": "[encoded data removed]",
      "text/plain": [
       "<Figure size 800x500 with 1 Axes>"
      ]
     },
     "metadata": {},
     "output_type": "display_data"
    }
   ],
   "source": [
    "### 2. Box and Whisker Plot ###\n",
    "plt.figure(figsize=(8, 5))\n",
    "sns.boxplot(data=df)\n",
    "plt.title(\"Box and Whisker Plot\")\n",
    "plt.show()\n"
   ]
  },
  {
   "cell_type": "code",
   "execution_count": 18,
   "id": "f65df9fc-40c4-4da5-9ae9-696f2bdf4c73",
   "metadata": {},
   "outputs": [
    {
     "name": "stdout",
     "output_type": "stream",
     "text": [
      "    Feature1  Feature2  Feature3\n",
      "0      False     False     False\n",
      "1      False     False     False\n",
      "2      False     False     False\n",
      "3      False     False     False\n",
      "4      False     False     False\n",
      "5      False     False     False\n",
      "6      False     False     False\n",
      "7      False     False     False\n",
      "8      False     False     False\n",
      "9      False     False     False\n",
      "10     False     False     False\n",
      "11     False     False     False\n",
      "12     False     False     False\n",
      "13     False     False     False\n",
      "14     False     False     False\n",
      "15     False     False     False\n",
      "16     False     False     False\n",
      "17     False     False     False\n",
      "18     False     False     False\n",
      "19     False     False     False\n",
      "20     False     False     False\n",
      "21     False     False     False\n",
      "22     False     False     False\n",
      "23     False     False     False\n",
      "24     False     False     False\n",
      "25     False     False     False\n",
      "26     False     False     False\n",
      "27     False     False     False\n",
      "28     False     False     False\n",
      "29     False     False     False\n",
      "30     False     False     False\n",
      "31     False     False     False\n",
      "32     False     False     False\n",
      "33     False     False     False\n",
      "34     False     False     False\n",
      "35     False     False     False\n",
      "36     False     False     False\n",
      "37     False     False     False\n",
      "38     False     False     False\n",
      "39     False     False     False\n",
      "40     False     False     False\n",
      "41     False     False     False\n",
      "42     False     False     False\n",
      "43     False     False     False\n",
      "44     False     False     False\n",
      "45     False     False     False\n",
      "46     False     False     False\n",
      "47     False     False     False\n",
      "48     False     False     False\n",
      "49     False     False     False\n"
     ]
    }
   ],
   "source": [
    "### 3. Z-Score for Outlier Detection ###\n",
    "def detect_outliers_zscore(data, threshold=3):\n",
    "    z_scores = np.abs(stats.zscore(data))\n",
    "    return (z_scores > threshold)\n",
    "\n",
    "outliers_z = detect_outliers_zscore(df)\n",
    "print(outliers_z)"
   ]
  },
  {
   "cell_type": "code",
   "execution_count": 20,
   "id": "5ffab762-dbd9-46ad-9a01-7ea2c28ba644",
   "metadata": {},
   "outputs": [
    {
     "name": "stdout",
     "output_type": "stream",
     "text": [
      "    Feature1  Feature2  Feature3\n",
      "0  -1.546346 -0.298527  0.437226\n",
      "1  -0.658569  1.447907  1.653372\n",
      "2   1.318753  1.569361 -1.709344\n",
      "3   0.148501  1.050038 -0.354001\n",
      "4  -0.295388  1.393462  1.492196\n",
      "5   1.439813  0.279429  1.015994\n",
      "6   0.673097  1.100295 -0.581113\n",
      "7  -0.255034  0.044896 -0.507851\n",
      "8  -0.779630  1.460471 -0.412610\n",
      "9  -0.456802 -1.626152  0.305355\n",
      "10  1.116985  0.178915  0.957385\n",
      "11 -0.376095  0.522339  0.935407\n",
      "12  0.753804  0.936960  0.385943\n",
      "13  0.108147 -0.796910 -0.273413\n",
      "14  0.955571 -0.595882 -1.745975\n",
      "15 -1.465639  1.188245  0.224767\n",
      "16 -1.748114  0.807129  0.188136\n",
      "17  0.471329 -1.383243 -1.518863\n",
      "18 -0.658569  1.225938 -0.727636\n",
      "19  1.641581  0.869950 -1.013357\n",
      "20 -0.698923 -0.792722  1.829200\n",
      "21  0.229208  1.129612  0.070917\n",
      "22  1.318753 -1.358114  0.605728\n",
      "23  0.471329 -0.030489  1.382303\n",
      "24  0.350268 -1.215719  1.081930\n",
      "25 -1.465639 -1.014691 -1.533516\n",
      "26 -1.788467 -1.647092 -0.683679\n",
      "27 -0.295388  0.371567 -0.786246\n",
      "28  0.229208  0.706615  1.411608\n",
      "29 -0.860337 -0.746653 -1.115924\n",
      "30  1.439813  0.995593  0.884123\n",
      "31 -0.941044 -0.926741 -1.416297\n",
      "32  1.601227  0.187291 -1.093945\n",
      "33  0.713450  1.460471  0.583750\n",
      "34  0.794157 -1.538202  0.356638\n",
      "35 -1.344579  0.505586 -1.313730\n",
      "36 -0.658569  1.204997 -0.698331\n",
      "37 -0.577862 -1.002126 -1.211164\n",
      "38  0.632743  0.262677 -0.705658\n",
      "39  1.318753 -1.592647 -0.932769\n",
      "40 -0.618216  0.019768  0.385943\n",
      "41  1.076632 -0.742465  0.371291\n",
      "42 -1.102458  0.078401 -1.181859\n",
      "43 -0.335741 -0.830415  1.272411\n",
      "44 -0.981397 -1.102641  1.015994\n",
      "45  0.350268 -0.851355 -0.119563\n",
      "46 -1.384932  0.141222  1.309042\n",
      "47  1.278399  0.752684  1.008668\n",
      "48  1.520520 -1.433500 -0.368653\n",
      "49 -0.658569 -0.365537  0.840166\n"
     ]
    }
   ],
   "source": [
    "### 4. Standardization (Z-score Normalization) ###\n",
    "scaler_standard = StandardScaler()\n",
    "df_standardized = pd.DataFrame(scaler_standard.fit_transform(df), columns=df.columns)\n",
    "print(df_standardized)"
   ]
  },
  {
   "cell_type": "code",
   "execution_count": 21,
   "id": "21302ec9-0b63-4897-aa8b-41c47e9db77d",
   "metadata": {},
   "outputs": [
    {
     "name": "stdout",
     "output_type": "stream",
     "text": [
      "    Feature1  Feature2  Feature3\n",
      "0   0.070588  0.419271  0.610656\n",
      "1   0.329412  0.962240  0.950820\n",
      "2   0.905882  1.000000  0.010246\n",
      "3   0.564706  0.838542  0.389344\n",
      "4   0.435294  0.945312  0.905738\n",
      "5   0.941176  0.598958  0.772541\n",
      "6   0.717647  0.854167  0.325820\n",
      "7   0.447059  0.526042  0.346311\n",
      "8   0.294118  0.966146  0.372951\n",
      "9   0.388235  0.006510  0.573770\n",
      "10  0.847059  0.567708  0.756148\n",
      "11  0.411765  0.674479  0.750000\n",
      "12  0.741176  0.803385  0.596311\n",
      "13  0.552941  0.264323  0.411885\n",
      "14  0.800000  0.326823  0.000000\n",
      "15  0.094118  0.881510  0.551230\n",
      "16  0.011765  0.763021  0.540984\n",
      "17  0.658824  0.082031  0.063525\n",
      "18  0.329412  0.893229  0.284836\n",
      "19  1.000000  0.782552  0.204918\n",
      "20  0.317647  0.265625  1.000000\n",
      "21  0.588235  0.863281  0.508197\n",
      "22  0.905882  0.089844  0.657787\n",
      "23  0.658824  0.502604  0.875000\n",
      "24  0.623529  0.134115  0.790984\n",
      "25  0.094118  0.196615  0.059426\n",
      "26  0.000000  0.000000  0.297131\n",
      "27  0.435294  0.627604  0.268443\n",
      "28  0.588235  0.731771  0.883197\n",
      "29  0.270588  0.279948  0.176230\n",
      "30  0.941176  0.821615  0.735656\n",
      "31  0.247059  0.223958  0.092213\n",
      "32  0.988235  0.570312  0.182377\n",
      "33  0.729412  0.966146  0.651639\n",
      "34  0.752941  0.033854  0.588115\n",
      "35  0.129412  0.669271  0.120902\n",
      "36  0.329412  0.886719  0.293033\n",
      "37  0.352941  0.200521  0.149590\n",
      "38  0.705882  0.593750  0.290984\n",
      "39  0.905882  0.016927  0.227459\n",
      "40  0.341176  0.518229  0.596311\n",
      "41  0.835294  0.281250  0.592213\n",
      "42  0.200000  0.536458  0.157787\n",
      "43  0.423529  0.253906  0.844262\n",
      "44  0.235294  0.169271  0.772541\n",
      "45  0.623529  0.247396  0.454918\n",
      "46  0.117647  0.555990  0.854508\n",
      "47  0.894118  0.746094  0.770492\n",
      "48  0.964706  0.066406  0.385246\n",
      "49  0.329412  0.398438  0.723361\n"
     ]
    }
   ],
   "source": [
    "### 5. MinMax Scaling ###\n",
    "scaler_minmax = MinMaxScaler()\n",
    "df_minmax = pd.DataFrame(scaler_minmax.fit_transform(df), columns=df.columns)\n",
    "print(df_minmax)"
   ]
  },
  {
   "cell_type": "code",
   "execution_count": 22,
   "id": "0ecdd8da-80cf-471e-abf4-f8785f801f9f",
   "metadata": {},
   "outputs": [
    {
     "name": "stdout",
     "output_type": "stream",
     "text": [
      "[[ 0.20350173  1.5855902 ]\n",
      " [-2.02586873  1.07592632]\n",
      " [-0.17830917 -1.56770828]\n",
      " [-0.52190702 -0.16374064]\n",
      " [-1.94611005  0.68419857]\n",
      " [-1.16770907 -1.1707124 ]\n",
      " [-0.50105167 -0.72133897]\n",
      " [ 0.36575925  0.14209711]\n",
      " [-0.59300109  0.75106504]\n",
      " [ 1.01819487  0.42262084]\n",
      " [-0.99550505 -0.87395093]\n",
      " [-0.93722416  0.59599453]\n",
      " [-1.06585756 -0.60127894]\n",
      " [ 0.72629081 -0.20748823]\n",
      " [ 1.4351372  -1.33911756]\n",
      " [-0.70911731  1.5420922 ]\n",
      " [-0.36280875  1.7889677 ]\n",
      " [ 1.92376918 -0.86094031]\n",
      " [-0.23516839  0.55262101]\n",
      " [-0.22693655 -1.77109994]\n",
      " [-0.5668553   1.03122734]\n",
      " [-0.88487448 -0.14688092]\n",
      " [ 0.2859792  -1.22976789]\n",
      " [-1.01748853 -0.16447819]\n",
      " [ 0.04338755 -0.17534972]\n",
      " [ 2.04386328  1.04480779]\n",
      " [ 1.96544906  1.50771249]\n",
      " [ 0.33540468  0.13943096]\n",
      " [-1.50870095  0.11799124]\n",
      " [ 1.45386276  0.55877355]\n",
      " [-1.57963189 -1.16009566]\n",
      " [ 1.80183185  0.56319148]\n",
      " [ 0.31504716 -1.78616232]\n",
      " [-1.56131171 -0.49099686]\n",
      " [ 0.68320826 -0.78147507]\n",
      " [ 0.80324855  1.05658942]\n",
      " [-0.24059877  0.55777483]\n",
      " [ 1.64475006  0.24897751]\n",
      " [ 0.17983853 -0.75426338]\n",
      " [ 1.50696965 -1.57285632]\n",
      " [-0.16123433  0.6868034 ]\n",
      " [ 0.06108532 -1.01053041]\n",
      " [ 0.96634144  0.82557448]\n",
      " [-0.22719509  0.55546597]\n",
      " [ 0.26274899  1.11523071]\n",
      " [ 0.61276987 -0.41352145]\n",
      " [-0.73440116  1.63928263]\n",
      " [-1.46400501 -0.98915384]\n",
      " [ 0.96955074 -1.63983677]\n",
      " [-0.19511818  0.80273767]]\n"
     ]
    }
   ],
   "source": [
    "### 6. Principal Component Analysis (PCA) ###\n",
    "pca = PCA(n_components=2)  # Reduce to 2 principal components\n",
    "df_pca = pca.fit_transform(df_standardized)\n",
    "print(df_pca)"
   ]
  },
  {
   "cell_type": "code",
   "execution_count": 23,
   "id": "5a764eaa-f33d-405f-b487-d2da366c33cc",
   "metadata": {},
   "outputs": [
    {
     "data": {
      "image/png": "[encoded data removed]",
      "text/plain": [
       "<Figure size 600x500 with 1 Axes>"
      ]
     },
     "metadata": {},
     "output_type": "display_data"
    }
   ],
   "source": [
    "# Plot PCA\n",
    "plt.figure(figsize=(6, 5))\n",
    "plt.scatter(df_pca[:, 0], df_pca[:, 1], c='blue', edgecolors='k')\n",
    "plt.xlabel('Principal Component 1')\n",
    "plt.ylabel('Principal Component 2')\n",
    "plt.title('PCA - 2 Components')\n",
    "plt.show()\n"
   ]
  },
  {
   "cell_type": "code",
   "execution_count": 2,
   "id": "bd3e0ada-094b-4881-821c-b5eff905ed16",
   "metadata": {},
   "outputs": [],
   "source": []
  },
  {
   "cell_type": "code",
   "execution_count": null,
   "id": "11a40d25-de6e-47c4-a613-b46e8045c4e5",
   "metadata": {},
   "outputs": [],
   "source": []
  }
 ],
 "metadata": {
  "kernelspec": {
   "display_name": "Python 3 (ipykernel)",
   "language": "python",
   "name": "python3"
  },
  "language_info": {
   "codemirror_mode": {
    "name": "ipython",
    "version": 3
   },
   "file_extension": ".py",
   "mimetype": "text/x-python",
   "name": "python",
   "nbconvert_exporter": "python",
   "pygments_lexer": "ipython3",
   "version": "3.10.11"
  }
 },
 "nbformat": 4,
 "nbformat_minor": 5
}
